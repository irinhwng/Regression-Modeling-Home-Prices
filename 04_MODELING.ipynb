{
 "cells": [
  {
   "cell_type": "code",
   "execution_count": 1,
   "metadata": {},
   "outputs": [],
   "source": [
    "import pandas as pd"
   ]
  },
  {
   "cell_type": "code",
   "execution_count": 2,
   "metadata": {},
   "outputs": [
    {
     "data": {
      "text/html": [
       "<div>\n",
       "<style scoped>\n",
       "    .dataframe tbody tr th:only-of-type {\n",
       "        vertical-align: middle;\n",
       "    }\n",
       "\n",
       "    .dataframe tbody tr th {\n",
       "        vertical-align: top;\n",
       "    }\n",
       "\n",
       "    .dataframe thead th {\n",
       "        text-align: right;\n",
       "    }\n",
       "</style>\n",
       "<table border=\"1\" class=\"dataframe\">\n",
       "  <thead>\n",
       "    <tr style=\"text-align: right;\">\n",
       "      <th></th>\n",
       "      <th>Unnamed: 0</th>\n",
       "      <th>Overall Qual</th>\n",
       "      <th>Year Built</th>\n",
       "      <th>Year Remod/Add</th>\n",
       "      <th>Mas Vnr Area</th>\n",
       "      <th>Total Bsmt SF</th>\n",
       "      <th>1st Flr SF</th>\n",
       "      <th>Gr Liv Area</th>\n",
       "      <th>Full Bath</th>\n",
       "      <th>TotRms AbvGrd</th>\n",
       "      <th>...</th>\n",
       "      <th>Garage Area Yr Sold</th>\n",
       "      <th>Garage Area baths</th>\n",
       "      <th>Yr Sold homeage</th>\n",
       "      <th>Yr Sold baths</th>\n",
       "      <th>Yr Sold garageage</th>\n",
       "      <th>baths^2</th>\n",
       "      <th>Foundation_PConc</th>\n",
       "      <th>Bsmt Qual_Ex</th>\n",
       "      <th>Kitchen Qual_Ex</th>\n",
       "      <th>SalePrice</th>\n",
       "    </tr>\n",
       "  </thead>\n",
       "  <tbody>\n",
       "    <tr>\n",
       "      <th>0</th>\n",
       "      <td>0</td>\n",
       "      <td>-0.078644</td>\n",
       "      <td>0.142227</td>\n",
       "      <td>0.989479</td>\n",
       "      <td>1.092329</td>\n",
       "      <td>-0.741232</td>\n",
       "      <td>-1.108838</td>\n",
       "      <td>-0.040634</td>\n",
       "      <td>0.769779</td>\n",
       "      <td>-0.279441</td>\n",
       "      <td>...</td>\n",
       "      <td>0.008581</td>\n",
       "      <td>0.496281</td>\n",
       "      <td>-0.067210</td>\n",
       "      <td>1.160521</td>\n",
       "      <td>0.203566</td>\n",
       "      <td>1.138397</td>\n",
       "      <td>0</td>\n",
       "      <td>0</td>\n",
       "      <td>0</td>\n",
       "      <td>130500</td>\n",
       "    </tr>\n",
       "    <tr>\n",
       "      <th>1</th>\n",
       "      <td>1</td>\n",
       "      <td>0.622656</td>\n",
       "      <td>0.805126</td>\n",
       "      <td>0.609090</td>\n",
       "      <td>0.191491</td>\n",
       "      <td>-0.322705</td>\n",
       "      <td>-0.634510</td>\n",
       "      <td>1.244529</td>\n",
       "      <td>0.769779</td>\n",
       "      <td>1.002738</td>\n",
       "      <td>...</td>\n",
       "      <td>0.396922</td>\n",
       "      <td>0.848706</td>\n",
       "      <td>-0.763445</td>\n",
       "      <td>1.158568</td>\n",
       "      <td>-0.686130</td>\n",
       "      <td>1.138397</td>\n",
       "      <td>1</td>\n",
       "      <td>0</td>\n",
       "      <td>0</td>\n",
       "      <td>220000</td>\n",
       "    </tr>\n",
       "    <tr>\n",
       "      <th>2</th>\n",
       "      <td>2</td>\n",
       "      <td>-0.779944</td>\n",
       "      <td>-0.620106</td>\n",
       "      <td>1.084576</td>\n",
       "      <td>-0.565901</td>\n",
       "      <td>-0.002130</td>\n",
       "      <td>-0.271195</td>\n",
       "      <td>-0.884084</td>\n",
       "      <td>-1.051232</td>\n",
       "      <td>-0.920531</td>\n",
       "      <td>...</td>\n",
       "      <td>-1.053629</td>\n",
       "      <td>-1.083758</td>\n",
       "      <td>0.695100</td>\n",
       "      <td>-1.194594</td>\n",
       "      <td>1.133449</td>\n",
       "      <td>-1.046041</td>\n",
       "      <td>0</td>\n",
       "      <td>0</td>\n",
       "      <td>0</td>\n",
       "      <td>109000</td>\n",
       "    </tr>\n",
       "    <tr>\n",
       "      <th>3</th>\n",
       "      <td>3</td>\n",
       "      <td>-0.779944</td>\n",
       "      <td>1.136575</td>\n",
       "      <td>1.084576</td>\n",
       "      <td>-0.565901</td>\n",
       "      <td>-1.500370</td>\n",
       "      <td>-1.060900</td>\n",
       "      <td>-0.110588</td>\n",
       "      <td>0.769779</td>\n",
       "      <td>0.361648</td>\n",
       "      <td>...</td>\n",
       "      <td>-0.339305</td>\n",
       "      <td>0.181616</td>\n",
       "      <td>-1.061526</td>\n",
       "      <td>1.160521</td>\n",
       "      <td>-1.049756</td>\n",
       "      <td>1.138397</td>\n",
       "      <td>1</td>\n",
       "      <td>0</td>\n",
       "      <td>0</td>\n",
       "      <td>174000</td>\n",
       "    </tr>\n",
       "    <tr>\n",
       "      <th>4</th>\n",
       "      <td>4</td>\n",
       "      <td>-0.078644</td>\n",
       "      <td>-2.376787</td>\n",
       "      <td>0.418896</td>\n",
       "      <td>-0.565901</td>\n",
       "      <td>-0.850317</td>\n",
       "      <td>-0.841397</td>\n",
       "      <td>-0.108589</td>\n",
       "      <td>0.769779</td>\n",
       "      <td>-0.279441</td>\n",
       "      <td>...</td>\n",
       "      <td>0.050327</td>\n",
       "      <td>0.127913</td>\n",
       "      <td>2.451726</td>\n",
       "      <td>0.375483</td>\n",
       "      <td>0.971731</td>\n",
       "      <td>0.202209</td>\n",
       "      <td>1</td>\n",
       "      <td>0</td>\n",
       "      <td>0</td>\n",
       "      <td>138500</td>\n",
       "    </tr>\n",
       "  </tbody>\n",
       "</table>\n",
       "<p>5 rows × 169 columns</p>\n",
       "</div>"
      ],
      "text/plain": [
       "   Unnamed: 0  Overall Qual  Year Built  Year Remod/Add  Mas Vnr Area  \\\n",
       "0           0     -0.078644    0.142227        0.989479      1.092329   \n",
       "1           1      0.622656    0.805126        0.609090      0.191491   \n",
       "2           2     -0.779944   -0.620106        1.084576     -0.565901   \n",
       "3           3     -0.779944    1.136575        1.084576     -0.565901   \n",
       "4           4     -0.078644   -2.376787        0.418896     -0.565901   \n",
       "\n",
       "   Total Bsmt SF  1st Flr SF  Gr Liv Area  Full Bath  TotRms AbvGrd  \\\n",
       "0      -0.741232   -1.108838    -0.040634   0.769779      -0.279441   \n",
       "1      -0.322705   -0.634510     1.244529   0.769779       1.002738   \n",
       "2      -0.002130   -0.271195    -0.884084  -1.051232      -0.920531   \n",
       "3      -1.500370   -1.060900    -0.110588   0.769779       0.361648   \n",
       "4      -0.850317   -0.841397    -0.108589   0.769779      -0.279441   \n",
       "\n",
       "     ...      Garage Area Yr Sold  Garage Area baths  Yr Sold homeage  \\\n",
       "0    ...                 0.008581           0.496281        -0.067210   \n",
       "1    ...                 0.396922           0.848706        -0.763445   \n",
       "2    ...                -1.053629          -1.083758         0.695100   \n",
       "3    ...                -0.339305           0.181616        -1.061526   \n",
       "4    ...                 0.050327           0.127913         2.451726   \n",
       "\n",
       "   Yr Sold baths  Yr Sold garageage   baths^2  Foundation_PConc  Bsmt Qual_Ex  \\\n",
       "0       1.160521           0.203566  1.138397                 0             0   \n",
       "1       1.158568          -0.686130  1.138397                 1             0   \n",
       "2      -1.194594           1.133449 -1.046041                 0             0   \n",
       "3       1.160521          -1.049756  1.138397                 1             0   \n",
       "4       0.375483           0.971731  0.202209                 1             0   \n",
       "\n",
       "   Kitchen Qual_Ex  SalePrice  \n",
       "0                0     130500  \n",
       "1                0     220000  \n",
       "2                0     109000  \n",
       "3                0     174000  \n",
       "4                0     138500  \n",
       "\n",
       "[5 rows x 169 columns]"
      ]
     },
     "execution_count": 2,
     "metadata": {},
     "output_type": "execute_result"
    }
   ],
   "source": [
    "train = pd.read_csv('./datasets/mother.csv')\n",
    "train.head()"
   ]
  },
  {
   "cell_type": "code",
   "execution_count": 3,
   "metadata": {},
   "outputs": [],
   "source": [
    "from sklearn import metrics\n",
    "from sklearn.model_selection import train_test_split, cross_val_score\n",
    "from sklearn.linear_model import LinearRegression, LassoCV, RidgeCV, ElasticNetCV\n",
    "from sklearn.preprocessing import StandardScaler, PowerTransformer\n",
    "from sklearn.metrics import r2_score"
   ]
  },
  {
   "cell_type": "code",
   "execution_count": 5,
   "metadata": {},
   "outputs": [
    {
     "data": {
      "text/plain": [
       "169"
      ]
     },
     "execution_count": 5,
     "metadata": {},
     "output_type": "execute_result"
    }
   ],
   "source": [
    "len(train.columns)"
   ]
  },
  {
   "cell_type": "code",
   "execution_count": 28,
   "metadata": {},
   "outputs": [],
   "source": [
    "features = ['Overall Qual',\n",
    " 'Year Built',\n",
    " 'Year Remod/Add',\n",
    " 'Mas Vnr Area',\n",
    " 'Total Bsmt SF',\n",
    " '1st Flr SF',\n",
    " 'Gr Liv Area',\n",
    " 'Full Bath',\n",
    " 'TotRms AbvGrd',\n",
    " 'Garage Yr Blt',\n",
    " 'Garage Cars',\n",
    " 'Garage Area',\n",
    " 'homeage',\n",
    " 'baths',\n",
    " 'garageage',\n",
    " 'Lot Frontage Overall Qual',\n",
    " 'Lot Frontage Mas Vnr Area',\n",
    " 'Lot Frontage Gr Liv Area',\n",
    " 'Lot Frontage Full Bath',\n",
    " 'Lot Frontage Garage Cars',\n",
    " 'Lot Frontage Garage Area',\n",
    " 'Lot Frontage baths',\n",
    " 'Lot Area Overall Qual',\n",
    " 'Lot Area Garage Cars',\n",
    " 'Overall Qual^2',\n",
    " 'Overall Qual Overall Cond',\n",
    " 'Overall Qual Year Built',\n",
    " 'Overall Qual Year Remod/Add',\n",
    " 'Overall Qual Mas Vnr Area',\n",
    " 'Overall Qual BsmtFin SF 1',\n",
    " 'Overall Qual Total Bsmt SF',\n",
    " 'Overall Qual 1st Flr SF',\n",
    " 'Overall Qual Gr Liv Area',\n",
    " 'Overall Qual Full Bath',\n",
    " 'Overall Qual Bedroom AbvGr',\n",
    " 'Overall Qual Kitchen AbvGr',\n",
    " 'Overall Qual TotRms AbvGrd',\n",
    " 'Overall Qual Fireplaces',\n",
    " 'Overall Qual Garage Yr Blt',\n",
    " 'Overall Qual Garage Cars',\n",
    " 'Overall Qual Garage Area',\n",
    " 'Overall Qual Yr Sold',\n",
    " 'Overall Qual baths',\n",
    " 'Overall Cond Total Bsmt SF',\n",
    " 'Overall Cond 1st Flr SF',\n",
    " 'Overall Cond Gr Liv Area',\n",
    " 'Overall Cond Garage Cars',\n",
    " 'Overall Cond Garage Area',\n",
    " 'Overall Cond baths',\n",
    " 'Year Built^2',\n",
    " 'Year Built Year Remod/Add',\n",
    " 'Year Built Mas Vnr Area',\n",
    " 'Year Built Total Bsmt SF',\n",
    " 'Year Built 1st Flr SF',\n",
    " 'Year Built Gr Liv Area',\n",
    " 'Year Built Full Bath',\n",
    " 'Year Built TotRms AbvGrd',\n",
    " 'Year Built Garage Yr Blt',\n",
    " 'Year Built Garage Cars',\n",
    " 'Year Built Garage Area',\n",
    " 'Year Built Yr Sold',\n",
    " 'Year Built homeage',\n",
    " 'Year Built baths',\n",
    " 'Year Built garageage',\n",
    " 'Year Remod/Add^2',\n",
    " 'Year Remod/Add Mas Vnr Area',\n",
    " 'Year Remod/Add Total Bsmt SF',\n",
    " 'Year Remod/Add 1st Flr SF',\n",
    " 'Year Remod/Add Gr Liv Area',\n",
    " 'Year Remod/Add Full Bath',\n",
    " 'Year Remod/Add TotRms AbvGrd',\n",
    " 'Year Remod/Add Garage Yr Blt',\n",
    " 'Year Remod/Add Garage Cars',\n",
    " 'Year Remod/Add Garage Area',\n",
    " 'Year Remod/Add Yr Sold',\n",
    " 'Year Remod/Add homeage',\n",
    " 'Year Remod/Add baths',\n",
    " 'Year Remod/Add garageage',\n",
    " 'Mas Vnr Area Total Bsmt SF',\n",
    " 'Mas Vnr Area 1st Flr SF',\n",
    " 'Mas Vnr Area Gr Liv Area',\n",
    " 'Mas Vnr Area Full Bath',\n",
    " 'Mas Vnr Area Bedroom AbvGr',\n",
    " 'Mas Vnr Area TotRms AbvGrd',\n",
    " 'Mas Vnr Area Fireplaces',\n",
    " 'Mas Vnr Area Garage Yr Blt',\n",
    " 'Mas Vnr Area Garage Cars',\n",
    " 'Mas Vnr Area Garage Area',\n",
    " 'Mas Vnr Area Yr Sold',\n",
    " 'Mas Vnr Area baths',\n",
    " 'BsmtFin SF 1 Full Bath',\n",
    " 'BsmtFin SF 1 Garage Cars',\n",
    " 'BsmtFin SF 1 baths',\n",
    " 'Total Bsmt SF 1st Flr SF',\n",
    " 'Total Bsmt SF Gr Liv Area',\n",
    " 'Total Bsmt SF Full Bath',\n",
    " 'Total Bsmt SF Bedroom AbvGr',\n",
    " 'Total Bsmt SF TotRms AbvGrd',\n",
    " 'Total Bsmt SF Fireplaces',\n",
    " 'Total Bsmt SF Garage Yr Blt',\n",
    " 'Total Bsmt SF Garage Cars',\n",
    " 'Total Bsmt SF Garage Area',\n",
    " 'Total Bsmt SF Yr Sold',\n",
    " 'Total Bsmt SF baths',\n",
    " '1st Flr SF^2',\n",
    " '1st Flr SF Gr Liv Area',\n",
    " '1st Flr SF Full Bath',\n",
    " '1st Flr SF TotRms AbvGrd',\n",
    " '1st Flr SF Fireplaces',\n",
    " '1st Flr SF Garage Yr Blt',\n",
    " '1st Flr SF Garage Cars',\n",
    " '1st Flr SF Garage Area',\n",
    " '1st Flr SF Yr Sold',\n",
    " '1st Flr SF baths',\n",
    " 'Gr Liv Area^2',\n",
    " 'Gr Liv Area Full Bath',\n",
    " 'Gr Liv Area TotRms AbvGrd',\n",
    " 'Gr Liv Area Fireplaces',\n",
    " 'Gr Liv Area Garage Yr Blt',\n",
    " 'Gr Liv Area Garage Cars',\n",
    " 'Gr Liv Area Garage Area',\n",
    " 'Gr Liv Area Yr Sold',\n",
    " 'Gr Liv Area baths',\n",
    " 'Full Bath^2',\n",
    " 'Full Bath TotRms AbvGrd',\n",
    " 'Full Bath Fireplaces',\n",
    " 'Full Bath Garage Yr Blt',\n",
    " 'Full Bath Garage Cars',\n",
    " 'Full Bath Garage Area',\n",
    " 'Full Bath Yr Sold',\n",
    " 'Full Bath baths',\n",
    " 'Bedroom AbvGr Garage Cars',\n",
    " 'Bedroom AbvGr Garage Area',\n",
    " 'Kitchen AbvGr Garage Cars',\n",
    " 'Kitchen AbvGr Garage Area',\n",
    " 'Kitchen AbvGr homeage',\n",
    " 'Kitchen AbvGr garageage',\n",
    " 'TotRms AbvGrd Fireplaces',\n",
    " 'TotRms AbvGrd Garage Yr Blt',\n",
    " 'TotRms AbvGrd Garage Cars',\n",
    " 'TotRms AbvGrd Garage Area',\n",
    " 'TotRms AbvGrd Yr Sold',\n",
    " 'TotRms AbvGrd baths',\n",
    " 'Fireplaces Garage Cars',\n",
    " 'Fireplaces Garage Area',\n",
    " 'Fireplaces baths',\n",
    " 'Garage Yr Blt^2',\n",
    " 'Garage Yr Blt Garage Cars',\n",
    " 'Garage Yr Blt Garage Area',\n",
    " 'Garage Yr Blt Yr Sold',\n",
    " 'Garage Yr Blt homeage',\n",
    " 'Garage Yr Blt baths',\n",
    " 'Garage Yr Blt garageage',\n",
    " 'Garage Cars^2',\n",
    " 'Garage Cars Garage Area',\n",
    " 'Garage Cars Yr Sold',\n",
    " 'Garage Cars baths',\n",
    " 'Garage Area^2',\n",
    " 'Garage Area Yr Sold',\n",
    " 'Garage Area baths',\n",
    " 'Yr Sold homeage',\n",
    " 'Yr Sold baths',\n",
    " 'Yr Sold garageage',\n",
    " 'baths^2',\n",
    "'Foundation_PConc',\n",
    "'Bsmt Qual_Ex', \n",
    "'Kitchen Qual_Ex']"
   ]
  },
  {
   "cell_type": "code",
   "execution_count": 29,
   "metadata": {},
   "outputs": [
    {
     "data": {
      "text/plain": [
       "167"
      ]
     },
     "execution_count": 29,
     "metadata": {},
     "output_type": "execute_result"
    }
   ],
   "source": [
    "len(features)"
   ]
  },
  {
   "cell_type": "code",
   "execution_count": 30,
   "metadata": {},
   "outputs": [],
   "source": [
    "X = train[features]\n",
    "y = train['SalePrice']"
   ]
  },
  {
   "cell_type": "code",
   "execution_count": 31,
   "metadata": {},
   "outputs": [],
   "source": [
    "X_train, X_test, y_train, y_test = train_test_split(X, y, test_size=0.3, random_state=42)"
   ]
  },
  {
   "cell_type": "code",
   "execution_count": 32,
   "metadata": {},
   "outputs": [],
   "source": [
    "#instantiate the models\n",
    "lr = LinearRegression()\n",
    "lasso = LassoCV()\n",
    "ridge = RidgeCV()\n",
    "elastic = ElasticNetCV()"
   ]
  },
  {
   "cell_type": "markdown",
   "metadata": {},
   "source": [
    "# The four models- Cross Val Score"
   ]
  },
  {
   "cell_type": "code",
   "execution_count": 33,
   "metadata": {},
   "outputs": [
    {
     "data": {
      "text/plain": [
       "0.862850248245848"
      ]
     },
     "execution_count": 33,
     "metadata": {},
     "output_type": "execute_result"
    }
   ],
   "source": [
    "cross_val_score(lr, X_train, y_train, cv= 10).mean()"
   ]
  },
  {
   "cell_type": "code",
   "execution_count": 34,
   "metadata": {},
   "outputs": [
    {
     "name": "stderr",
     "output_type": "stream",
     "text": [
      "/Users/erinhwang/anaconda3/lib/python3.7/site-packages/sklearn/model_selection/_split.py:2053: FutureWarning: You should specify a value for 'cv' instead of relying on the default value. The default value will change from 3 to 5 in version 0.22.\n",
      "  warnings.warn(CV_WARNING, FutureWarning)\n",
      "/Users/erinhwang/anaconda3/lib/python3.7/site-packages/sklearn/linear_model/coordinate_descent.py:492: ConvergenceWarning: Objective did not converge. You might want to increase the number of iterations. Fitting data with very small alpha may cause precision problems.\n",
      "  ConvergenceWarning)\n",
      "/Users/erinhwang/anaconda3/lib/python3.7/site-packages/sklearn/linear_model/coordinate_descent.py:492: ConvergenceWarning: Objective did not converge. You might want to increase the number of iterations. Fitting data with very small alpha may cause precision problems.\n",
      "  ConvergenceWarning)\n",
      "/Users/erinhwang/anaconda3/lib/python3.7/site-packages/sklearn/model_selection/_split.py:2053: FutureWarning: You should specify a value for 'cv' instead of relying on the default value. The default value will change from 3 to 5 in version 0.22.\n",
      "  warnings.warn(CV_WARNING, FutureWarning)\n",
      "/Users/erinhwang/anaconda3/lib/python3.7/site-packages/sklearn/linear_model/coordinate_descent.py:492: ConvergenceWarning: Objective did not converge. You might want to increase the number of iterations. Fitting data with very small alpha may cause precision problems.\n",
      "  ConvergenceWarning)\n",
      "/Users/erinhwang/anaconda3/lib/python3.7/site-packages/sklearn/linear_model/coordinate_descent.py:492: ConvergenceWarning: Objective did not converge. You might want to increase the number of iterations. Fitting data with very small alpha may cause precision problems.\n",
      "  ConvergenceWarning)\n",
      "/Users/erinhwang/anaconda3/lib/python3.7/site-packages/sklearn/linear_model/coordinate_descent.py:492: ConvergenceWarning: Objective did not converge. You might want to increase the number of iterations. Fitting data with very small alpha may cause precision problems.\n",
      "  ConvergenceWarning)\n",
      "/Users/erinhwang/anaconda3/lib/python3.7/site-packages/sklearn/model_selection/_split.py:2053: FutureWarning: You should specify a value for 'cv' instead of relying on the default value. The default value will change from 3 to 5 in version 0.22.\n",
      "  warnings.warn(CV_WARNING, FutureWarning)\n",
      "/Users/erinhwang/anaconda3/lib/python3.7/site-packages/sklearn/linear_model/coordinate_descent.py:492: ConvergenceWarning: Objective did not converge. You might want to increase the number of iterations. Fitting data with very small alpha may cause precision problems.\n",
      "  ConvergenceWarning)\n",
      "/Users/erinhwang/anaconda3/lib/python3.7/site-packages/sklearn/linear_model/coordinate_descent.py:492: ConvergenceWarning: Objective did not converge. You might want to increase the number of iterations. Fitting data with very small alpha may cause precision problems.\n",
      "  ConvergenceWarning)\n",
      "/Users/erinhwang/anaconda3/lib/python3.7/site-packages/sklearn/linear_model/coordinate_descent.py:492: ConvergenceWarning: Objective did not converge. You might want to increase the number of iterations. Fitting data with very small alpha may cause precision problems.\n",
      "  ConvergenceWarning)\n",
      "/Users/erinhwang/anaconda3/lib/python3.7/site-packages/sklearn/linear_model/coordinate_descent.py:492: ConvergenceWarning: Objective did not converge. You might want to increase the number of iterations. Fitting data with very small alpha may cause precision problems.\n",
      "  ConvergenceWarning)\n",
      "/Users/erinhwang/anaconda3/lib/python3.7/site-packages/sklearn/linear_model/coordinate_descent.py:492: ConvergenceWarning: Objective did not converge. You might want to increase the number of iterations. Fitting data with very small alpha may cause precision problems.\n",
      "  ConvergenceWarning)\n",
      "/Users/erinhwang/anaconda3/lib/python3.7/site-packages/sklearn/linear_model/coordinate_descent.py:492: ConvergenceWarning: Objective did not converge. You might want to increase the number of iterations. Fitting data with very small alpha may cause precision problems.\n",
      "  ConvergenceWarning)\n",
      "/Users/erinhwang/anaconda3/lib/python3.7/site-packages/sklearn/linear_model/coordinate_descent.py:492: ConvergenceWarning: Objective did not converge. You might want to increase the number of iterations. Fitting data with very small alpha may cause precision problems.\n",
      "  ConvergenceWarning)\n",
      "/Users/erinhwang/anaconda3/lib/python3.7/site-packages/sklearn/model_selection/_split.py:2053: FutureWarning: You should specify a value for 'cv' instead of relying on the default value. The default value will change from 3 to 5 in version 0.22.\n",
      "  warnings.warn(CV_WARNING, FutureWarning)\n",
      "/Users/erinhwang/anaconda3/lib/python3.7/site-packages/sklearn/linear_model/coordinate_descent.py:492: ConvergenceWarning: Objective did not converge. You might want to increase the number of iterations. Fitting data with very small alpha may cause precision problems.\n",
      "  ConvergenceWarning)\n",
      "/Users/erinhwang/anaconda3/lib/python3.7/site-packages/sklearn/linear_model/coordinate_descent.py:492: ConvergenceWarning: Objective did not converge. You might want to increase the number of iterations. Fitting data with very small alpha may cause precision problems.\n",
      "  ConvergenceWarning)\n",
      "/Users/erinhwang/anaconda3/lib/python3.7/site-packages/sklearn/linear_model/coordinate_descent.py:492: ConvergenceWarning: Objective did not converge. You might want to increase the number of iterations. Fitting data with very small alpha may cause precision problems.\n",
      "  ConvergenceWarning)\n",
      "/Users/erinhwang/anaconda3/lib/python3.7/site-packages/sklearn/linear_model/coordinate_descent.py:492: ConvergenceWarning: Objective did not converge. You might want to increase the number of iterations. Fitting data with very small alpha may cause precision problems.\n",
      "  ConvergenceWarning)\n",
      "/Users/erinhwang/anaconda3/lib/python3.7/site-packages/sklearn/model_selection/_split.py:2053: FutureWarning: You should specify a value for 'cv' instead of relying on the default value. The default value will change from 3 to 5 in version 0.22.\n",
      "  warnings.warn(CV_WARNING, FutureWarning)\n",
      "/Users/erinhwang/anaconda3/lib/python3.7/site-packages/sklearn/linear_model/coordinate_descent.py:492: ConvergenceWarning: Objective did not converge. You might want to increase the number of iterations. Fitting data with very small alpha may cause precision problems.\n",
      "  ConvergenceWarning)\n",
      "/Users/erinhwang/anaconda3/lib/python3.7/site-packages/sklearn/model_selection/_split.py:2053: FutureWarning: You should specify a value for 'cv' instead of relying on the default value. The default value will change from 3 to 5 in version 0.22.\n",
      "  warnings.warn(CV_WARNING, FutureWarning)\n",
      "/Users/erinhwang/anaconda3/lib/python3.7/site-packages/sklearn/linear_model/coordinate_descent.py:492: ConvergenceWarning: Objective did not converge. You might want to increase the number of iterations. Fitting data with very small alpha may cause precision problems.\n",
      "  ConvergenceWarning)\n",
      "/Users/erinhwang/anaconda3/lib/python3.7/site-packages/sklearn/linear_model/coordinate_descent.py:492: ConvergenceWarning: Objective did not converge. You might want to increase the number of iterations. Fitting data with very small alpha may cause precision problems.\n",
      "  ConvergenceWarning)\n",
      "/Users/erinhwang/anaconda3/lib/python3.7/site-packages/sklearn/linear_model/coordinate_descent.py:492: ConvergenceWarning: Objective did not converge. You might want to increase the number of iterations. Fitting data with very small alpha may cause precision problems.\n",
      "  ConvergenceWarning)\n",
      "/Users/erinhwang/anaconda3/lib/python3.7/site-packages/sklearn/linear_model/coordinate_descent.py:492: ConvergenceWarning: Objective did not converge. You might want to increase the number of iterations. Fitting data with very small alpha may cause precision problems.\n",
      "  ConvergenceWarning)\n",
      "/Users/erinhwang/anaconda3/lib/python3.7/site-packages/sklearn/model_selection/_split.py:2053: FutureWarning: You should specify a value for 'cv' instead of relying on the default value. The default value will change from 3 to 5 in version 0.22.\n",
      "  warnings.warn(CV_WARNING, FutureWarning)\n",
      "/Users/erinhwang/anaconda3/lib/python3.7/site-packages/sklearn/linear_model/coordinate_descent.py:492: ConvergenceWarning: Objective did not converge. You might want to increase the number of iterations. Fitting data with very small alpha may cause precision problems.\n",
      "  ConvergenceWarning)\n",
      "/Users/erinhwang/anaconda3/lib/python3.7/site-packages/sklearn/model_selection/_split.py:2053: FutureWarning: You should specify a value for 'cv' instead of relying on the default value. The default value will change from 3 to 5 in version 0.22.\n",
      "  warnings.warn(CV_WARNING, FutureWarning)\n"
     ]
    },
    {
     "name": "stderr",
     "output_type": "stream",
     "text": [
      "/Users/erinhwang/anaconda3/lib/python3.7/site-packages/sklearn/linear_model/coordinate_descent.py:492: ConvergenceWarning: Objective did not converge. You might want to increase the number of iterations. Fitting data with very small alpha may cause precision problems.\n",
      "  ConvergenceWarning)\n",
      "/Users/erinhwang/anaconda3/lib/python3.7/site-packages/sklearn/linear_model/coordinate_descent.py:492: ConvergenceWarning: Objective did not converge. You might want to increase the number of iterations. Fitting data with very small alpha may cause precision problems.\n",
      "  ConvergenceWarning)\n",
      "/Users/erinhwang/anaconda3/lib/python3.7/site-packages/sklearn/linear_model/coordinate_descent.py:492: ConvergenceWarning: Objective did not converge. You might want to increase the number of iterations. Fitting data with very small alpha may cause precision problems.\n",
      "  ConvergenceWarning)\n",
      "/Users/erinhwang/anaconda3/lib/python3.7/site-packages/sklearn/linear_model/coordinate_descent.py:492: ConvergenceWarning: Objective did not converge. You might want to increase the number of iterations. Fitting data with very small alpha may cause precision problems.\n",
      "  ConvergenceWarning)\n",
      "/Users/erinhwang/anaconda3/lib/python3.7/site-packages/sklearn/model_selection/_split.py:2053: FutureWarning: You should specify a value for 'cv' instead of relying on the default value. The default value will change from 3 to 5 in version 0.22.\n",
      "  warnings.warn(CV_WARNING, FutureWarning)\n",
      "/Users/erinhwang/anaconda3/lib/python3.7/site-packages/sklearn/model_selection/_split.py:2053: FutureWarning: You should specify a value for 'cv' instead of relying on the default value. The default value will change from 3 to 5 in version 0.22.\n",
      "  warnings.warn(CV_WARNING, FutureWarning)\n",
      "/Users/erinhwang/anaconda3/lib/python3.7/site-packages/sklearn/linear_model/coordinate_descent.py:492: ConvergenceWarning: Objective did not converge. You might want to increase the number of iterations. Fitting data with very small alpha may cause precision problems.\n",
      "  ConvergenceWarning)\n",
      "/Users/erinhwang/anaconda3/lib/python3.7/site-packages/sklearn/linear_model/coordinate_descent.py:492: ConvergenceWarning: Objective did not converge. You might want to increase the number of iterations. Fitting data with very small alpha may cause precision problems.\n",
      "  ConvergenceWarning)\n",
      "/Users/erinhwang/anaconda3/lib/python3.7/site-packages/sklearn/linear_model/coordinate_descent.py:492: ConvergenceWarning: Objective did not converge. You might want to increase the number of iterations. Fitting data with very small alpha may cause precision problems.\n",
      "  ConvergenceWarning)\n",
      "/Users/erinhwang/anaconda3/lib/python3.7/site-packages/sklearn/linear_model/coordinate_descent.py:492: ConvergenceWarning: Objective did not converge. You might want to increase the number of iterations. Fitting data with very small alpha may cause precision problems.\n",
      "  ConvergenceWarning)\n",
      "/Users/erinhwang/anaconda3/lib/python3.7/site-packages/sklearn/linear_model/coordinate_descent.py:492: ConvergenceWarning: Objective did not converge. You might want to increase the number of iterations. Fitting data with very small alpha may cause precision problems.\n",
      "  ConvergenceWarning)\n",
      "/Users/erinhwang/anaconda3/lib/python3.7/site-packages/sklearn/linear_model/coordinate_descent.py:492: ConvergenceWarning: Objective did not converge. You might want to increase the number of iterations. Fitting data with very small alpha may cause precision problems.\n",
      "  ConvergenceWarning)\n",
      "/Users/erinhwang/anaconda3/lib/python3.7/site-packages/sklearn/linear_model/coordinate_descent.py:492: ConvergenceWarning: Objective did not converge. You might want to increase the number of iterations. Fitting data with very small alpha may cause precision problems.\n",
      "  ConvergenceWarning)\n",
      "/Users/erinhwang/anaconda3/lib/python3.7/site-packages/sklearn/linear_model/coordinate_descent.py:492: ConvergenceWarning: Objective did not converge. You might want to increase the number of iterations. Fitting data with very small alpha may cause precision problems.\n",
      "  ConvergenceWarning)\n",
      "/Users/erinhwang/anaconda3/lib/python3.7/site-packages/sklearn/linear_model/coordinate_descent.py:492: ConvergenceWarning: Objective did not converge. You might want to increase the number of iterations. Fitting data with very small alpha may cause precision problems.\n",
      "  ConvergenceWarning)\n",
      "/Users/erinhwang/anaconda3/lib/python3.7/site-packages/sklearn/linear_model/coordinate_descent.py:492: ConvergenceWarning: Objective did not converge. You might want to increase the number of iterations. Fitting data with very small alpha may cause precision problems.\n",
      "  ConvergenceWarning)\n",
      "/Users/erinhwang/anaconda3/lib/python3.7/site-packages/sklearn/linear_model/coordinate_descent.py:492: ConvergenceWarning: Objective did not converge. You might want to increase the number of iterations. Fitting data with very small alpha may cause precision problems.\n",
      "  ConvergenceWarning)\n"
     ]
    },
    {
     "data": {
      "text/plain": [
       "0.7825381459907108"
      ]
     },
     "execution_count": 34,
     "metadata": {},
     "output_type": "execute_result"
    }
   ],
   "source": [
    "cross_val_score(lasso, X_train, y_train, cv= 10).mean()"
   ]
  },
  {
   "cell_type": "code",
   "execution_count": 35,
   "metadata": {},
   "outputs": [
    {
     "data": {
      "text/plain": [
       "0.8666884410407742"
      ]
     },
     "execution_count": 35,
     "metadata": {},
     "output_type": "execute_result"
    }
   ],
   "source": [
    "cross_val_score(ridge, X_train, y_train, cv= 10).mean()"
   ]
  },
  {
   "cell_type": "code",
   "execution_count": 36,
   "metadata": {
    "scrolled": true
   },
   "outputs": [
    {
     "name": "stderr",
     "output_type": "stream",
     "text": [
      "/Users/erinhwang/anaconda3/lib/python3.7/site-packages/sklearn/model_selection/_split.py:2053: FutureWarning: You should specify a value for 'cv' instead of relying on the default value. The default value will change from 3 to 5 in version 0.22.\n",
      "  warnings.warn(CV_WARNING, FutureWarning)\n",
      "/Users/erinhwang/anaconda3/lib/python3.7/site-packages/sklearn/model_selection/_split.py:2053: FutureWarning: You should specify a value for 'cv' instead of relying on the default value. The default value will change from 3 to 5 in version 0.22.\n",
      "  warnings.warn(CV_WARNING, FutureWarning)\n",
      "/Users/erinhwang/anaconda3/lib/python3.7/site-packages/sklearn/model_selection/_split.py:2053: FutureWarning: You should specify a value for 'cv' instead of relying on the default value. The default value will change from 3 to 5 in version 0.22.\n",
      "  warnings.warn(CV_WARNING, FutureWarning)\n",
      "/Users/erinhwang/anaconda3/lib/python3.7/site-packages/sklearn/model_selection/_split.py:2053: FutureWarning: You should specify a value for 'cv' instead of relying on the default value. The default value will change from 3 to 5 in version 0.22.\n",
      "  warnings.warn(CV_WARNING, FutureWarning)\n",
      "/Users/erinhwang/anaconda3/lib/python3.7/site-packages/sklearn/model_selection/_split.py:2053: FutureWarning: You should specify a value for 'cv' instead of relying on the default value. The default value will change from 3 to 5 in version 0.22.\n",
      "  warnings.warn(CV_WARNING, FutureWarning)\n",
      "/Users/erinhwang/anaconda3/lib/python3.7/site-packages/sklearn/model_selection/_split.py:2053: FutureWarning: You should specify a value for 'cv' instead of relying on the default value. The default value will change from 3 to 5 in version 0.22.\n",
      "  warnings.warn(CV_WARNING, FutureWarning)\n",
      "/Users/erinhwang/anaconda3/lib/python3.7/site-packages/sklearn/model_selection/_split.py:2053: FutureWarning: You should specify a value for 'cv' instead of relying on the default value. The default value will change from 3 to 5 in version 0.22.\n",
      "  warnings.warn(CV_WARNING, FutureWarning)\n",
      "/Users/erinhwang/anaconda3/lib/python3.7/site-packages/sklearn/model_selection/_split.py:2053: FutureWarning: You should specify a value for 'cv' instead of relying on the default value. The default value will change from 3 to 5 in version 0.22.\n",
      "  warnings.warn(CV_WARNING, FutureWarning)\n",
      "/Users/erinhwang/anaconda3/lib/python3.7/site-packages/sklearn/model_selection/_split.py:2053: FutureWarning: You should specify a value for 'cv' instead of relying on the default value. The default value will change from 3 to 5 in version 0.22.\n",
      "  warnings.warn(CV_WARNING, FutureWarning)\n",
      "/Users/erinhwang/anaconda3/lib/python3.7/site-packages/sklearn/model_selection/_split.py:2053: FutureWarning: You should specify a value for 'cv' instead of relying on the default value. The default value will change from 3 to 5 in version 0.22.\n",
      "  warnings.warn(CV_WARNING, FutureWarning)\n"
     ]
    },
    {
     "data": {
      "text/plain": [
       "0.6003718329968822"
      ]
     },
     "execution_count": 36,
     "metadata": {},
     "output_type": "execute_result"
    }
   ],
   "source": [
    "cross_val_score(elastic, X_train, y_train, cv= 10).mean()"
   ]
  },
  {
   "cell_type": "markdown",
   "metadata": {},
   "source": [
    "# Proceed with Ridge "
   ]
  },
  {
   "cell_type": "code",
   "execution_count": 37,
   "metadata": {},
   "outputs": [
    {
     "data": {
      "text/plain": [
       "RidgeCV(alphas=array([ 0.1,  1. , 10. ]), cv=None, fit_intercept=True,\n",
       "    gcv_mode=None, normalize=False, scoring=None, store_cv_values=False)"
      ]
     },
     "execution_count": 37,
     "metadata": {},
     "output_type": "execute_result"
    }
   ],
   "source": [
    "ridge.fit(X_train, y_train)"
   ]
  },
  {
   "cell_type": "code",
   "execution_count": 38,
   "metadata": {},
   "outputs": [
    {
     "data": {
      "text/plain": [
       "0.8666884410407742"
      ]
     },
     "execution_count": 38,
     "metadata": {},
     "output_type": "execute_result"
    }
   ],
   "source": [
    "#cv scores\n",
    "cross_val_score(ridge, X_train, y_train, cv=10).mean()"
   ]
  },
  {
   "cell_type": "code",
   "execution_count": 39,
   "metadata": {},
   "outputs": [
    {
     "data": {
      "text/plain": [
       "0.9283344627138852"
      ]
     },
     "execution_count": 39,
     "metadata": {},
     "output_type": "execute_result"
    }
   ],
   "source": [
    "#train score\n",
    "ridge.score(X_train, y_train)"
   ]
  },
  {
   "cell_type": "code",
   "execution_count": 40,
   "metadata": {},
   "outputs": [
    {
     "data": {
      "text/plain": [
       "0.9031217146246528"
      ]
     },
     "execution_count": 40,
     "metadata": {},
     "output_type": "execute_result"
    }
   ],
   "source": [
    "#test score\n",
    "ridge.score(X_test, y_test)"
   ]
  },
  {
   "cell_type": "code",
   "execution_count": 41,
   "metadata": {},
   "outputs": [],
   "source": [
    "import numpy as np"
   ]
  },
  {
   "cell_type": "code",
   "execution_count": 42,
   "metadata": {},
   "outputs": [],
   "source": [
    "#train predictions \n",
    "predictions = ridge.predict(X_train)"
   ]
  },
  {
   "cell_type": "code",
   "execution_count": 43,
   "metadata": {},
   "outputs": [
    {
     "data": {
      "text/plain": [
       "459117493.7416403"
      ]
     },
     "execution_count": 43,
     "metadata": {},
     "output_type": "execute_result"
    }
   ],
   "source": [
    "metrics.mean_squared_error(y_train, predictions)"
   ]
  },
  {
   "cell_type": "code",
   "execution_count": 44,
   "metadata": {},
   "outputs": [
    {
     "data": {
      "text/plain": [
       "21427.027179280853"
      ]
     },
     "execution_count": 44,
     "metadata": {},
     "output_type": "execute_result"
    }
   ],
   "source": [
    "import numpy as np\n",
    "np.sqrt(metrics.mean_squared_error(y_train, predictions))"
   ]
  },
  {
   "cell_type": "code",
   "execution_count": 45,
   "metadata": {},
   "outputs": [
    {
     "data": {
      "text/plain": [
       "579082877.2793851"
      ]
     },
     "execution_count": 45,
     "metadata": {},
     "output_type": "execute_result"
    }
   ],
   "source": [
    "#test prdictions \n",
    "predictions = ridge.predict(X_test)\n",
    "metrics.mean_squared_error(y_test, predictions)"
   ]
  },
  {
   "cell_type": "code",
   "execution_count": 46,
   "metadata": {},
   "outputs": [
    {
     "data": {
      "text/plain": [
       "24064.140900505572"
      ]
     },
     "execution_count": 46,
     "metadata": {},
     "output_type": "execute_result"
    }
   ],
   "source": [
    "np.sqrt(metrics.mean_squared_error(y_test, predictions))"
   ]
  },
  {
   "cell_type": "markdown",
   "metadata": {},
   "source": [
    "# Evaluating Metrics using Ridge Regression"
   ]
  },
  {
   "cell_type": "markdown",
   "metadata": {},
   "source": [
    "- Train score: .9283\n",
    "- Test Score: .9031\n",
    "- RMSE Train: 21,427\n",
    "- RMSE Test: 24,064"
   ]
  },
  {
   "cell_type": "code",
   "execution_count": null,
   "metadata": {},
   "outputs": [],
   "source": []
  }
 ],
 "metadata": {
  "kernelspec": {
   "display_name": "Python 3",
   "language": "python",
   "name": "python3"
  },
  "language_info": {
   "codemirror_mode": {
    "name": "ipython",
    "version": 3
   },
   "file_extension": ".py",
   "mimetype": "text/x-python",
   "name": "python",
   "nbconvert_exporter": "python",
   "pygments_lexer": "ipython3",
   "version": "3.7.1"
  }
 },
 "nbformat": 4,
 "nbformat_minor": 2
}
