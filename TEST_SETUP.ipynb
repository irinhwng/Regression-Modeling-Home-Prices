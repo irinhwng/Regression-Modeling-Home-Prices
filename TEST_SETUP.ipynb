{
 "cells": [
  {
   "cell_type": "markdown",
   "metadata": {},
   "source": [
    "# Importing clean dataframe: 3 binary columns and 39 numeric columns"
   ]
  },
  {
   "cell_type": "code",
   "execution_count": 1,
   "metadata": {},
   "outputs": [],
   "source": [
    "import pandas as pd"
   ]
  },
  {
   "cell_type": "code",
   "execution_count": 2,
   "metadata": {},
   "outputs": [],
   "source": [
    "d1 = pd.read_csv('./datasets/df_with_dummy.csv')"
   ]
  },
  {
   "cell_type": "markdown",
   "metadata": {},
   "source": [
    "# Dummy and Numeric List"
   ]
  },
  {
   "cell_type": "code",
   "execution_count": 3,
   "metadata": {},
   "outputs": [],
   "source": [
    "dummy_col = ['Foundation_PConc', 'Bsmt Qual_Ex', 'Kitchen Qual_Ex']"
   ]
  },
  {
   "cell_type": "code",
   "execution_count": 4,
   "metadata": {},
   "outputs": [],
   "source": [
    "numeric_col = []\n",
    "irrelevant_col = ['Unnamed: 0', 'SalePrice', 'Foundation_PConc', 'Bsmt Qual_Ex', 'Kitchen Qual_Ex']\n",
    "for col in list(d1):\n",
    "    if col not in irrelevant_col:\n",
    "        numeric_col.append(col)\n",
    "    \n",
    "                                                                      \n",
    "                                                                      "
   ]
  },
  {
   "cell_type": "code",
   "execution_count": 5,
   "metadata": {},
   "outputs": [
    {
     "data": {
      "text/plain": [
       "39"
      ]
     },
     "execution_count": 5,
     "metadata": {},
     "output_type": "execute_result"
    }
   ],
   "source": [
    "len(numeric_col)"
   ]
  },
  {
   "cell_type": "markdown",
   "metadata": {},
   "source": [
    "# Polynomial for Train"
   ]
  },
  {
   "cell_type": "code",
   "execution_count": 6,
   "metadata": {},
   "outputs": [],
   "source": [
    "from sklearn.preprocessing import StandardScaler, PolynomialFeatures"
   ]
  },
  {
   "cell_type": "code",
   "execution_count": 7,
   "metadata": {},
   "outputs": [],
   "source": [
    "X = d1[numeric_col]\n",
    "poly = PolynomialFeatures(include_bias= False)\n",
    "X_train_poly = poly.fit_transform(X)"
   ]
  },
  {
   "cell_type": "code",
   "execution_count": 8,
   "metadata": {},
   "outputs": [],
   "source": [
    "#creating a dataframe of our polynomial features\n",
    "poly_df = pd.DataFrame(X_train_poly, columns = poly.get_feature_names(numeric_col))"
   ]
  },
  {
   "cell_type": "markdown",
   "metadata": {},
   "source": [
    "## `poly_df` is the mother of polynomial features "
   ]
  },
  {
   "cell_type": "code",
   "execution_count": 9,
   "metadata": {},
   "outputs": [
    {
     "data": {
      "text/html": [
       "<div>\n",
       "<style scoped>\n",
       "    .dataframe tbody tr th:only-of-type {\n",
       "        vertical-align: middle;\n",
       "    }\n",
       "\n",
       "    .dataframe tbody tr th {\n",
       "        vertical-align: top;\n",
       "    }\n",
       "\n",
       "    .dataframe thead th {\n",
       "        text-align: right;\n",
       "    }\n",
       "</style>\n",
       "<table border=\"1\" class=\"dataframe\">\n",
       "  <thead>\n",
       "    <tr style=\"text-align: right;\">\n",
       "      <th></th>\n",
       "      <th>MS SubClass</th>\n",
       "      <th>Lot Frontage</th>\n",
       "      <th>Lot Area</th>\n",
       "      <th>Overall Qual</th>\n",
       "      <th>Overall Cond</th>\n",
       "      <th>Year Built</th>\n",
       "      <th>Year Remod/Add</th>\n",
       "      <th>Mas Vnr Area</th>\n",
       "      <th>BsmtFin SF 1</th>\n",
       "      <th>BsmtFin SF 2</th>\n",
       "      <th>...</th>\n",
       "      <th>Yr Sold^2</th>\n",
       "      <th>Yr Sold homeage</th>\n",
       "      <th>Yr Sold baths</th>\n",
       "      <th>Yr Sold garageage</th>\n",
       "      <th>homeage^2</th>\n",
       "      <th>homeage baths</th>\n",
       "      <th>homeage garageage</th>\n",
       "      <th>baths^2</th>\n",
       "      <th>baths garageage</th>\n",
       "      <th>garageage^2</th>\n",
       "    </tr>\n",
       "  </thead>\n",
       "  <tbody>\n",
       "    <tr>\n",
       "      <th>0</th>\n",
       "      <td>60.0</td>\n",
       "      <td>68.0</td>\n",
       "      <td>13517.0</td>\n",
       "      <td>6.0</td>\n",
       "      <td>8.0</td>\n",
       "      <td>1976.0</td>\n",
       "      <td>2005.0</td>\n",
       "      <td>289.0</td>\n",
       "      <td>533.0</td>\n",
       "      <td>0.0</td>\n",
       "      <td>...</td>\n",
       "      <td>4040100.0</td>\n",
       "      <td>68340.0</td>\n",
       "      <td>5025.0</td>\n",
       "      <td>68340.0</td>\n",
       "      <td>1156.0</td>\n",
       "      <td>85.0</td>\n",
       "      <td>1156.0</td>\n",
       "      <td>6.25</td>\n",
       "      <td>85.0</td>\n",
       "      <td>1156.0</td>\n",
       "    </tr>\n",
       "    <tr>\n",
       "      <th>1</th>\n",
       "      <td>60.0</td>\n",
       "      <td>43.0</td>\n",
       "      <td>11492.0</td>\n",
       "      <td>7.0</td>\n",
       "      <td>5.0</td>\n",
       "      <td>1996.0</td>\n",
       "      <td>1997.0</td>\n",
       "      <td>132.0</td>\n",
       "      <td>637.0</td>\n",
       "      <td>0.0</td>\n",
       "      <td>...</td>\n",
       "      <td>4036081.0</td>\n",
       "      <td>26117.0</td>\n",
       "      <td>5022.5</td>\n",
       "      <td>24108.0</td>\n",
       "      <td>169.0</td>\n",
       "      <td>32.5</td>\n",
       "      <td>156.0</td>\n",
       "      <td>6.25</td>\n",
       "      <td>30.0</td>\n",
       "      <td>144.0</td>\n",
       "    </tr>\n",
       "    <tr>\n",
       "      <th>2</th>\n",
       "      <td>20.0</td>\n",
       "      <td>68.0</td>\n",
       "      <td>7922.0</td>\n",
       "      <td>5.0</td>\n",
       "      <td>7.0</td>\n",
       "      <td>1953.0</td>\n",
       "      <td>2007.0</td>\n",
       "      <td>0.0</td>\n",
       "      <td>731.0</td>\n",
       "      <td>0.0</td>\n",
       "      <td>...</td>\n",
       "      <td>4040100.0</td>\n",
       "      <td>114570.0</td>\n",
       "      <td>2010.0</td>\n",
       "      <td>114570.0</td>\n",
       "      <td>3249.0</td>\n",
       "      <td>57.0</td>\n",
       "      <td>3249.0</td>\n",
       "      <td>1.00</td>\n",
       "      <td>57.0</td>\n",
       "      <td>3249.0</td>\n",
       "    </tr>\n",
       "    <tr>\n",
       "      <th>3</th>\n",
       "      <td>60.0</td>\n",
       "      <td>73.0</td>\n",
       "      <td>9802.0</td>\n",
       "      <td>5.0</td>\n",
       "      <td>5.0</td>\n",
       "      <td>2006.0</td>\n",
       "      <td>2007.0</td>\n",
       "      <td>0.0</td>\n",
       "      <td>0.0</td>\n",
       "      <td>0.0</td>\n",
       "      <td>...</td>\n",
       "      <td>4040100.0</td>\n",
       "      <td>8040.0</td>\n",
       "      <td>5025.0</td>\n",
       "      <td>6030.0</td>\n",
       "      <td>16.0</td>\n",
       "      <td>10.0</td>\n",
       "      <td>12.0</td>\n",
       "      <td>6.25</td>\n",
       "      <td>7.5</td>\n",
       "      <td>9.0</td>\n",
       "    </tr>\n",
       "    <tr>\n",
       "      <th>4</th>\n",
       "      <td>50.0</td>\n",
       "      <td>82.0</td>\n",
       "      <td>14235.0</td>\n",
       "      <td>6.0</td>\n",
       "      <td>8.0</td>\n",
       "      <td>1900.0</td>\n",
       "      <td>1993.0</td>\n",
       "      <td>0.0</td>\n",
       "      <td>0.0</td>\n",
       "      <td>0.0</td>\n",
       "      <td>...</td>\n",
       "      <td>4040100.0</td>\n",
       "      <td>221100.0</td>\n",
       "      <td>4020.0</td>\n",
       "      <td>106530.0</td>\n",
       "      <td>12100.0</td>\n",
       "      <td>220.0</td>\n",
       "      <td>5830.0</td>\n",
       "      <td>4.00</td>\n",
       "      <td>106.0</td>\n",
       "      <td>2809.0</td>\n",
       "    </tr>\n",
       "  </tbody>\n",
       "</table>\n",
       "<p>5 rows × 819 columns</p>\n",
       "</div>"
      ],
      "text/plain": [
       "   MS SubClass  Lot Frontage  Lot Area  Overall Qual  Overall Cond  \\\n",
       "0         60.0          68.0   13517.0           6.0           8.0   \n",
       "1         60.0          43.0   11492.0           7.0           5.0   \n",
       "2         20.0          68.0    7922.0           5.0           7.0   \n",
       "3         60.0          73.0    9802.0           5.0           5.0   \n",
       "4         50.0          82.0   14235.0           6.0           8.0   \n",
       "\n",
       "   Year Built  Year Remod/Add  Mas Vnr Area  BsmtFin SF 1  BsmtFin SF 2  \\\n",
       "0      1976.0          2005.0         289.0         533.0           0.0   \n",
       "1      1996.0          1997.0         132.0         637.0           0.0   \n",
       "2      1953.0          2007.0           0.0         731.0           0.0   \n",
       "3      2006.0          2007.0           0.0           0.0           0.0   \n",
       "4      1900.0          1993.0           0.0           0.0           0.0   \n",
       "\n",
       "      ...       Yr Sold^2  Yr Sold homeage  Yr Sold baths  Yr Sold garageage  \\\n",
       "0     ...       4040100.0          68340.0         5025.0            68340.0   \n",
       "1     ...       4036081.0          26117.0         5022.5            24108.0   \n",
       "2     ...       4040100.0         114570.0         2010.0           114570.0   \n",
       "3     ...       4040100.0           8040.0         5025.0             6030.0   \n",
       "4     ...       4040100.0         221100.0         4020.0           106530.0   \n",
       "\n",
       "   homeage^2  homeage baths  homeage garageage  baths^2  baths garageage  \\\n",
       "0     1156.0           85.0             1156.0     6.25             85.0   \n",
       "1      169.0           32.5              156.0     6.25             30.0   \n",
       "2     3249.0           57.0             3249.0     1.00             57.0   \n",
       "3       16.0           10.0               12.0     6.25              7.5   \n",
       "4    12100.0          220.0             5830.0     4.00            106.0   \n",
       "\n",
       "   garageage^2  \n",
       "0       1156.0  \n",
       "1        144.0  \n",
       "2       3249.0  \n",
       "3          9.0  \n",
       "4       2809.0  \n",
       "\n",
       "[5 rows x 819 columns]"
      ]
     },
     "execution_count": 9,
     "metadata": {},
     "output_type": "execute_result"
    }
   ],
   "source": [
    "poly_df.head()"
   ]
  },
  {
   "cell_type": "code",
   "execution_count": 10,
   "metadata": {},
   "outputs": [],
   "source": [
    "corr_col = ['Overall Qual',\n",
    " 'Year Built',\n",
    " 'Year Remod/Add',\n",
    " 'Mas Vnr Area',\n",
    " 'Total Bsmt SF',\n",
    " '1st Flr SF',\n",
    " 'Gr Liv Area',\n",
    " 'Full Bath',\n",
    " 'TotRms AbvGrd',\n",
    " 'Garage Yr Blt',\n",
    " 'Garage Cars',\n",
    " 'Garage Area',\n",
    " 'homeage',\n",
    " 'baths',\n",
    " 'garageage',\n",
    " 'Lot Frontage Overall Qual',\n",
    " 'Lot Frontage Mas Vnr Area',\n",
    " 'Lot Frontage Gr Liv Area',\n",
    " 'Lot Frontage Full Bath',\n",
    " 'Lot Frontage Garage Cars',\n",
    " 'Lot Frontage Garage Area',\n",
    " 'Lot Frontage baths',\n",
    " 'Lot Area Overall Qual',\n",
    " 'Lot Area Garage Cars',\n",
    " 'Overall Qual^2',\n",
    " 'Overall Qual Overall Cond',\n",
    " 'Overall Qual Year Built',\n",
    " 'Overall Qual Year Remod/Add',\n",
    " 'Overall Qual Mas Vnr Area',\n",
    " 'Overall Qual BsmtFin SF 1',\n",
    " 'Overall Qual Total Bsmt SF',\n",
    " 'Overall Qual 1st Flr SF',\n",
    " 'Overall Qual Gr Liv Area',\n",
    " 'Overall Qual Full Bath',\n",
    " 'Overall Qual Bedroom AbvGr',\n",
    " 'Overall Qual Kitchen AbvGr',\n",
    " 'Overall Qual TotRms AbvGrd',\n",
    " 'Overall Qual Fireplaces',\n",
    " 'Overall Qual Garage Yr Blt',\n",
    " 'Overall Qual Garage Cars',\n",
    " 'Overall Qual Garage Area',\n",
    " 'Overall Qual Yr Sold',\n",
    " 'Overall Qual baths',\n",
    " 'Overall Cond Total Bsmt SF',\n",
    " 'Overall Cond 1st Flr SF',\n",
    " 'Overall Cond Gr Liv Area',\n",
    " 'Overall Cond Garage Cars',\n",
    " 'Overall Cond Garage Area',\n",
    " 'Overall Cond baths',\n",
    " 'Year Built^2',\n",
    " 'Year Built Year Remod/Add',\n",
    " 'Year Built Mas Vnr Area',\n",
    " 'Year Built Total Bsmt SF',\n",
    " 'Year Built 1st Flr SF',\n",
    " 'Year Built Gr Liv Area',\n",
    " 'Year Built Full Bath',\n",
    " 'Year Built TotRms AbvGrd',\n",
    " 'Year Built Garage Yr Blt',\n",
    " 'Year Built Garage Cars',\n",
    " 'Year Built Garage Area',\n",
    " 'Year Built Yr Sold',\n",
    " 'Year Built homeage',\n",
    " 'Year Built baths',\n",
    " 'Year Built garageage',\n",
    " 'Year Remod/Add^2',\n",
    " 'Year Remod/Add Mas Vnr Area',\n",
    " 'Year Remod/Add Total Bsmt SF',\n",
    " 'Year Remod/Add 1st Flr SF',\n",
    " 'Year Remod/Add Gr Liv Area',\n",
    " 'Year Remod/Add Full Bath',\n",
    " 'Year Remod/Add TotRms AbvGrd',\n",
    " 'Year Remod/Add Garage Yr Blt',\n",
    " 'Year Remod/Add Garage Cars',\n",
    " 'Year Remod/Add Garage Area',\n",
    " 'Year Remod/Add Yr Sold',\n",
    " 'Year Remod/Add homeage',\n",
    " 'Year Remod/Add baths',\n",
    " 'Year Remod/Add garageage',\n",
    " 'Mas Vnr Area Total Bsmt SF',\n",
    " 'Mas Vnr Area 1st Flr SF',\n",
    " 'Mas Vnr Area Gr Liv Area',\n",
    " 'Mas Vnr Area Full Bath',\n",
    " 'Mas Vnr Area Bedroom AbvGr',\n",
    " 'Mas Vnr Area TotRms AbvGrd',\n",
    " 'Mas Vnr Area Fireplaces',\n",
    " 'Mas Vnr Area Garage Yr Blt',\n",
    " 'Mas Vnr Area Garage Cars',\n",
    " 'Mas Vnr Area Garage Area',\n",
    " 'Mas Vnr Area Yr Sold',\n",
    " 'Mas Vnr Area baths',\n",
    " 'BsmtFin SF 1 Full Bath',\n",
    " 'BsmtFin SF 1 Garage Cars',\n",
    " 'BsmtFin SF 1 baths',\n",
    " 'Total Bsmt SF 1st Flr SF',\n",
    " 'Total Bsmt SF Gr Liv Area',\n",
    " 'Total Bsmt SF Full Bath',\n",
    " 'Total Bsmt SF Bedroom AbvGr',\n",
    " 'Total Bsmt SF TotRms AbvGrd',\n",
    " 'Total Bsmt SF Fireplaces',\n",
    " 'Total Bsmt SF Garage Yr Blt',\n",
    " 'Total Bsmt SF Garage Cars',\n",
    " 'Total Bsmt SF Garage Area',\n",
    " 'Total Bsmt SF Yr Sold',\n",
    " 'Total Bsmt SF baths',\n",
    " '1st Flr SF^2',\n",
    " '1st Flr SF Gr Liv Area',\n",
    " '1st Flr SF Full Bath',\n",
    " '1st Flr SF TotRms AbvGrd',\n",
    " '1st Flr SF Fireplaces',\n",
    " '1st Flr SF Garage Yr Blt',\n",
    " '1st Flr SF Garage Cars',\n",
    " '1st Flr SF Garage Area',\n",
    " '1st Flr SF Yr Sold',\n",
    " '1st Flr SF baths',\n",
    " 'Gr Liv Area^2',\n",
    " 'Gr Liv Area Full Bath',\n",
    " 'Gr Liv Area TotRms AbvGrd',\n",
    " 'Gr Liv Area Fireplaces',\n",
    " 'Gr Liv Area Garage Yr Blt',\n",
    " 'Gr Liv Area Garage Cars',\n",
    " 'Gr Liv Area Garage Area',\n",
    " 'Gr Liv Area Yr Sold',\n",
    " 'Gr Liv Area baths',\n",
    " 'Full Bath^2',\n",
    " 'Full Bath TotRms AbvGrd',\n",
    " 'Full Bath Fireplaces',\n",
    " 'Full Bath Garage Yr Blt',\n",
    " 'Full Bath Garage Cars',\n",
    " 'Full Bath Garage Area',\n",
    " 'Full Bath Yr Sold',\n",
    " 'Full Bath baths',\n",
    " 'Bedroom AbvGr Garage Cars',\n",
    " 'Bedroom AbvGr Garage Area',\n",
    " 'Kitchen AbvGr Garage Cars',\n",
    " 'Kitchen AbvGr Garage Area',\n",
    " 'Kitchen AbvGr homeage',\n",
    " 'Kitchen AbvGr garageage',\n",
    " 'TotRms AbvGrd Fireplaces',\n",
    " 'TotRms AbvGrd Garage Yr Blt',\n",
    " 'TotRms AbvGrd Garage Cars',\n",
    " 'TotRms AbvGrd Garage Area',\n",
    " 'TotRms AbvGrd Yr Sold',\n",
    " 'TotRms AbvGrd baths',\n",
    " 'Fireplaces Garage Cars',\n",
    " 'Fireplaces Garage Area',\n",
    " 'Fireplaces baths',\n",
    " 'Garage Yr Blt^2',\n",
    " 'Garage Yr Blt Garage Cars',\n",
    " 'Garage Yr Blt Garage Area',\n",
    " 'Garage Yr Blt Yr Sold',\n",
    " 'Garage Yr Blt homeage',\n",
    " 'Garage Yr Blt baths',\n",
    " 'Garage Yr Blt garageage',\n",
    " 'Garage Cars^2',\n",
    " 'Garage Cars Garage Area',\n",
    " 'Garage Cars Yr Sold',\n",
    " 'Garage Cars baths',\n",
    " 'Garage Area^2',\n",
    " 'Garage Area Yr Sold',\n",
    " 'Garage Area baths',\n",
    " 'Yr Sold homeage',\n",
    " 'Yr Sold baths',\n",
    " 'Yr Sold garageage',\n",
    " 'baths^2']\n",
    "#list is from another notebook- but these are the columns that have a correlation higher than .50"
   ]
  },
  {
   "cell_type": "code",
   "execution_count": 11,
   "metadata": {},
   "outputs": [
    {
     "data": {
      "text/plain": [
       "164"
      ]
     },
     "execution_count": 11,
     "metadata": {},
     "output_type": "execute_result"
    }
   ],
   "source": [
    "len(poly_df[corr_col].columns)"
   ]
  },
  {
   "cell_type": "markdown",
   "metadata": {},
   "source": [
    "# Train Scale Time "
   ]
  },
  {
   "cell_type": "code",
   "execution_count": 12,
   "metadata": {},
   "outputs": [],
   "source": [
    "#I want to standardize my new polynomial features \n",
    "X = poly_df[corr_col]"
   ]
  },
  {
   "cell_type": "code",
   "execution_count": 13,
   "metadata": {},
   "outputs": [],
   "source": [
    "ss= StandardScaler()\n",
    "ss.fit(X)  #learning the means and std for each column \n",
    "poly_scaled = ss.transform(X)"
   ]
  },
  {
   "cell_type": "code",
   "execution_count": 14,
   "metadata": {},
   "outputs": [],
   "source": [
    "train_poly = pd.DataFrame(poly_scaled, columns = corr_col)"
   ]
  },
  {
   "cell_type": "code",
   "execution_count": 15,
   "metadata": {},
   "outputs": [
    {
     "data": {
      "text/plain": [
       "(2051, 164)"
      ]
     },
     "execution_count": 15,
     "metadata": {},
     "output_type": "execute_result"
    }
   ],
   "source": [
    "train_poly.shape"
   ]
  },
  {
   "cell_type": "markdown",
   "metadata": {},
   "source": [
    "### When we transform test, we must use  poly_test_scaled = ss.transform(X) then test_poly = pd.DataFrame(poly_test_scaled, columns = corr_col)"
   ]
  },
  {
   "cell_type": "code",
   "execution_count": 16,
   "metadata": {},
   "outputs": [
    {
     "data": {
      "text/plain": [
       "(2051, 3)"
      ]
     },
     "execution_count": 16,
     "metadata": {},
     "output_type": "execute_result"
    }
   ],
   "source": [
    "d1[dummy_col].shape"
   ]
  },
  {
   "cell_type": "code",
   "execution_count": 17,
   "metadata": {},
   "outputs": [],
   "source": [
    "train_sc_dum = train_poly.join(d1[dummy_col])"
   ]
  },
  {
   "cell_type": "code",
   "execution_count": 18,
   "metadata": {},
   "outputs": [
    {
     "data": {
      "text/plain": [
       "(2051, 167)"
      ]
     },
     "execution_count": 18,
     "metadata": {},
     "output_type": "execute_result"
    }
   ],
   "source": [
    "train_sc_dum.shape"
   ]
  },
  {
   "cell_type": "code",
   "execution_count": 19,
   "metadata": {},
   "outputs": [
    {
     "data": {
      "text/html": [
       "<div>\n",
       "<style scoped>\n",
       "    .dataframe tbody tr th:only-of-type {\n",
       "        vertical-align: middle;\n",
       "    }\n",
       "\n",
       "    .dataframe tbody tr th {\n",
       "        vertical-align: top;\n",
       "    }\n",
       "\n",
       "    .dataframe thead th {\n",
       "        text-align: right;\n",
       "    }\n",
       "</style>\n",
       "<table border=\"1\" class=\"dataframe\">\n",
       "  <thead>\n",
       "    <tr style=\"text-align: right;\">\n",
       "      <th></th>\n",
       "      <th>Overall Qual</th>\n",
       "      <th>Year Built</th>\n",
       "      <th>Year Remod/Add</th>\n",
       "      <th>Mas Vnr Area</th>\n",
       "      <th>Total Bsmt SF</th>\n",
       "      <th>1st Flr SF</th>\n",
       "      <th>Gr Liv Area</th>\n",
       "      <th>Full Bath</th>\n",
       "      <th>TotRms AbvGrd</th>\n",
       "      <th>Garage Yr Blt</th>\n",
       "      <th>...</th>\n",
       "      <th>Garage Area^2</th>\n",
       "      <th>Garage Area Yr Sold</th>\n",
       "      <th>Garage Area baths</th>\n",
       "      <th>Yr Sold homeage</th>\n",
       "      <th>Yr Sold baths</th>\n",
       "      <th>Yr Sold garageage</th>\n",
       "      <th>baths^2</th>\n",
       "      <th>Foundation_PConc</th>\n",
       "      <th>Bsmt Qual_Ex</th>\n",
       "      <th>Kitchen Qual_Ex</th>\n",
       "    </tr>\n",
       "  </thead>\n",
       "  <tbody>\n",
       "    <tr>\n",
       "      <th>0</th>\n",
       "      <td>-0.078644</td>\n",
       "      <td>0.142227</td>\n",
       "      <td>0.989479</td>\n",
       "      <td>1.092329</td>\n",
       "      <td>-0.741232</td>\n",
       "      <td>-1.108838</td>\n",
       "      <td>-0.040634</td>\n",
       "      <td>0.769779</td>\n",
       "      <td>-0.279441</td>\n",
       "      <td>-0.112447</td>\n",
       "      <td>...</td>\n",
       "      <td>-0.199323</td>\n",
       "      <td>0.008581</td>\n",
       "      <td>0.496281</td>\n",
       "      <td>-0.067210</td>\n",
       "      <td>1.160521</td>\n",
       "      <td>0.203566</td>\n",
       "      <td>1.138397</td>\n",
       "      <td>0</td>\n",
       "      <td>0</td>\n",
       "      <td>0</td>\n",
       "    </tr>\n",
       "    <tr>\n",
       "      <th>1</th>\n",
       "      <td>0.622656</td>\n",
       "      <td>0.805126</td>\n",
       "      <td>0.609090</td>\n",
       "      <td>0.191491</td>\n",
       "      <td>-0.322705</td>\n",
       "      <td>-0.634510</td>\n",
       "      <td>1.244529</td>\n",
       "      <td>0.769779</td>\n",
       "      <td>1.002738</td>\n",
       "      <td>0.737090</td>\n",
       "      <td>...</td>\n",
       "      <td>0.182637</td>\n",
       "      <td>0.396922</td>\n",
       "      <td>0.848706</td>\n",
       "      <td>-0.763445</td>\n",
       "      <td>1.158568</td>\n",
       "      <td>-0.686130</td>\n",
       "      <td>1.138397</td>\n",
       "      <td>1</td>\n",
       "      <td>0</td>\n",
       "      <td>0</td>\n",
       "    </tr>\n",
       "    <tr>\n",
       "      <th>2</th>\n",
       "      <td>-0.779944</td>\n",
       "      <td>-0.620106</td>\n",
       "      <td>1.084576</td>\n",
       "      <td>-0.565901</td>\n",
       "      <td>-0.002130</td>\n",
       "      <td>-0.271195</td>\n",
       "      <td>-0.884084</td>\n",
       "      <td>-1.051232</td>\n",
       "      <td>-0.920531</td>\n",
       "      <td>-1.042893</td>\n",
       "      <td>...</td>\n",
       "      <td>-0.925409</td>\n",
       "      <td>-1.053629</td>\n",
       "      <td>-1.083758</td>\n",
       "      <td>0.695100</td>\n",
       "      <td>-1.194594</td>\n",
       "      <td>1.133449</td>\n",
       "      <td>-1.046041</td>\n",
       "      <td>0</td>\n",
       "      <td>0</td>\n",
       "      <td>0</td>\n",
       "    </tr>\n",
       "    <tr>\n",
       "      <th>3</th>\n",
       "      <td>-0.779944</td>\n",
       "      <td>1.136575</td>\n",
       "      <td>1.084576</td>\n",
       "      <td>-0.565901</td>\n",
       "      <td>-1.500370</td>\n",
       "      <td>-1.060900</td>\n",
       "      <td>-0.110588</td>\n",
       "      <td>0.769779</td>\n",
       "      <td>0.361648</td>\n",
       "      <td>1.141632</td>\n",
       "      <td>...</td>\n",
       "      <td>-0.487916</td>\n",
       "      <td>-0.339305</td>\n",
       "      <td>0.181616</td>\n",
       "      <td>-1.061526</td>\n",
       "      <td>1.160521</td>\n",
       "      <td>-1.049756</td>\n",
       "      <td>1.138397</td>\n",
       "      <td>1</td>\n",
       "      <td>0</td>\n",
       "      <td>0</td>\n",
       "    </tr>\n",
       "    <tr>\n",
       "      <th>4</th>\n",
       "      <td>-0.078644</td>\n",
       "      <td>-2.376787</td>\n",
       "      <td>0.418896</td>\n",
       "      <td>-0.565901</td>\n",
       "      <td>-0.850317</td>\n",
       "      <td>-0.841397</td>\n",
       "      <td>-0.108589</td>\n",
       "      <td>0.769779</td>\n",
       "      <td>-0.279441</td>\n",
       "      <td>-0.881076</td>\n",
       "      <td>...</td>\n",
       "      <td>-0.161367</td>\n",
       "      <td>0.050327</td>\n",
       "      <td>0.127913</td>\n",
       "      <td>2.451726</td>\n",
       "      <td>0.375483</td>\n",
       "      <td>0.971731</td>\n",
       "      <td>0.202209</td>\n",
       "      <td>1</td>\n",
       "      <td>0</td>\n",
       "      <td>0</td>\n",
       "    </tr>\n",
       "  </tbody>\n",
       "</table>\n",
       "<p>5 rows × 167 columns</p>\n",
       "</div>"
      ],
      "text/plain": [
       "   Overall Qual  Year Built  Year Remod/Add  Mas Vnr Area  Total Bsmt SF  \\\n",
       "0     -0.078644    0.142227        0.989479      1.092329      -0.741232   \n",
       "1      0.622656    0.805126        0.609090      0.191491      -0.322705   \n",
       "2     -0.779944   -0.620106        1.084576     -0.565901      -0.002130   \n",
       "3     -0.779944    1.136575        1.084576     -0.565901      -1.500370   \n",
       "4     -0.078644   -2.376787        0.418896     -0.565901      -0.850317   \n",
       "\n",
       "   1st Flr SF  Gr Liv Area  Full Bath  TotRms AbvGrd  Garage Yr Blt  \\\n",
       "0   -1.108838    -0.040634   0.769779      -0.279441      -0.112447   \n",
       "1   -0.634510     1.244529   0.769779       1.002738       0.737090   \n",
       "2   -0.271195    -0.884084  -1.051232      -0.920531      -1.042893   \n",
       "3   -1.060900    -0.110588   0.769779       0.361648       1.141632   \n",
       "4   -0.841397    -0.108589   0.769779      -0.279441      -0.881076   \n",
       "\n",
       "        ...         Garage Area^2  Garage Area Yr Sold  Garage Area baths  \\\n",
       "0       ...             -0.199323             0.008581           0.496281   \n",
       "1       ...              0.182637             0.396922           0.848706   \n",
       "2       ...             -0.925409            -1.053629          -1.083758   \n",
       "3       ...             -0.487916            -0.339305           0.181616   \n",
       "4       ...             -0.161367             0.050327           0.127913   \n",
       "\n",
       "   Yr Sold homeage  Yr Sold baths  Yr Sold garageage   baths^2  \\\n",
       "0        -0.067210       1.160521           0.203566  1.138397   \n",
       "1        -0.763445       1.158568          -0.686130  1.138397   \n",
       "2         0.695100      -1.194594           1.133449 -1.046041   \n",
       "3        -1.061526       1.160521          -1.049756  1.138397   \n",
       "4         2.451726       0.375483           0.971731  0.202209   \n",
       "\n",
       "   Foundation_PConc  Bsmt Qual_Ex  Kitchen Qual_Ex  \n",
       "0                 0             0                0  \n",
       "1                 1             0                0  \n",
       "2                 0             0                0  \n",
       "3                 1             0                0  \n",
       "4                 1             0                0  \n",
       "\n",
       "[5 rows x 167 columns]"
      ]
     },
     "execution_count": 19,
     "metadata": {},
     "output_type": "execute_result"
    }
   ],
   "source": [
    "train_sc_dum.head()"
   ]
  },
  {
   "cell_type": "code",
   "execution_count": 20,
   "metadata": {},
   "outputs": [],
   "source": [
    "train_sc_dum.to_csv('./datasets/train_features_for_gridsearch')"
   ]
  },
  {
   "cell_type": "markdown",
   "metadata": {},
   "source": [
    "# Model "
   ]
  },
  {
   "cell_type": "code",
   "execution_count": 21,
   "metadata": {},
   "outputs": [],
   "source": [
    "from sklearn import metrics\n",
    "from sklearn.model_selection import train_test_split, cross_val_score\n",
    "from sklearn.linear_model import LinearRegression, LassoCV, RidgeCV, ElasticNetCV\n",
    "from sklearn.preprocessing import StandardScaler, PowerTransformer\n",
    "from sklearn.metrics import r2_score"
   ]
  },
  {
   "cell_type": "code",
   "execution_count": 22,
   "metadata": {},
   "outputs": [],
   "source": [
    "import numpy as np"
   ]
  },
  {
   "cell_type": "code",
   "execution_count": 23,
   "metadata": {},
   "outputs": [],
   "source": [
    "#creating our x and y\n",
    "X = train_sc_dum\n",
    "y = d1['SalePrice']"
   ]
  },
  {
   "cell_type": "code",
   "execution_count": 24,
   "metadata": {},
   "outputs": [],
   "source": [
    "#train test split\n",
    "X_train, X_test, y_train, y_test = train_test_split(X, y, test_size=0.3, random_state=42)"
   ]
  },
  {
   "cell_type": "code",
   "execution_count": 25,
   "metadata": {},
   "outputs": [],
   "source": [
    "#instantiate the models\n",
    "lr = LinearRegression()\n",
    "lasso = LassoCV()\n",
    "ridge = RidgeCV()\n",
    "elastic = ElasticNetCV()"
   ]
  },
  {
   "cell_type": "markdown",
   "metadata": {},
   "source": [
    "# Cross Val Scores"
   ]
  },
  {
   "cell_type": "code",
   "execution_count": 26,
   "metadata": {},
   "outputs": [
    {
     "data": {
      "text/plain": [
       "0.8628502482458457"
      ]
     },
     "execution_count": 26,
     "metadata": {},
     "output_type": "execute_result"
    }
   ],
   "source": [
    "cross_val_score(lr, X_train, y_train, cv= 10).mean()"
   ]
  },
  {
   "cell_type": "code",
   "execution_count": 27,
   "metadata": {},
   "outputs": [
    {
     "data": {
      "text/plain": [
       "0.8666884410559597"
      ]
     },
     "execution_count": 27,
     "metadata": {},
     "output_type": "execute_result"
    }
   ],
   "source": [
    "cross_val_score(ridge, X_train, y_train, cv= 10).mean()"
   ]
  },
  {
   "cell_type": "code",
   "execution_count": 28,
   "metadata": {},
   "outputs": [
    {
     "name": "stderr",
     "output_type": "stream",
     "text": [
      "/Users/erinhwang/anaconda3/lib/python3.7/site-packages/sklearn/model_selection/_split.py:2053: FutureWarning: You should specify a value for 'cv' instead of relying on the default value. The default value will change from 3 to 5 in version 0.22.\n",
      "  warnings.warn(CV_WARNING, FutureWarning)\n",
      "/Users/erinhwang/anaconda3/lib/python3.7/site-packages/sklearn/model_selection/_split.py:2053: FutureWarning: You should specify a value for 'cv' instead of relying on the default value. The default value will change from 3 to 5 in version 0.22.\n",
      "  warnings.warn(CV_WARNING, FutureWarning)\n",
      "/Users/erinhwang/anaconda3/lib/python3.7/site-packages/sklearn/model_selection/_split.py:2053: FutureWarning: You should specify a value for 'cv' instead of relying on the default value. The default value will change from 3 to 5 in version 0.22.\n",
      "  warnings.warn(CV_WARNING, FutureWarning)\n",
      "/Users/erinhwang/anaconda3/lib/python3.7/site-packages/sklearn/model_selection/_split.py:2053: FutureWarning: You should specify a value for 'cv' instead of relying on the default value. The default value will change from 3 to 5 in version 0.22.\n",
      "  warnings.warn(CV_WARNING, FutureWarning)\n",
      "/Users/erinhwang/anaconda3/lib/python3.7/site-packages/sklearn/model_selection/_split.py:2053: FutureWarning: You should specify a value for 'cv' instead of relying on the default value. The default value will change from 3 to 5 in version 0.22.\n",
      "  warnings.warn(CV_WARNING, FutureWarning)\n",
      "/Users/erinhwang/anaconda3/lib/python3.7/site-packages/sklearn/model_selection/_split.py:2053: FutureWarning: You should specify a value for 'cv' instead of relying on the default value. The default value will change from 3 to 5 in version 0.22.\n",
      "  warnings.warn(CV_WARNING, FutureWarning)\n",
      "/Users/erinhwang/anaconda3/lib/python3.7/site-packages/sklearn/model_selection/_split.py:2053: FutureWarning: You should specify a value for 'cv' instead of relying on the default value. The default value will change from 3 to 5 in version 0.22.\n",
      "  warnings.warn(CV_WARNING, FutureWarning)\n",
      "/Users/erinhwang/anaconda3/lib/python3.7/site-packages/sklearn/model_selection/_split.py:2053: FutureWarning: You should specify a value for 'cv' instead of relying on the default value. The default value will change from 3 to 5 in version 0.22.\n",
      "  warnings.warn(CV_WARNING, FutureWarning)\n",
      "/Users/erinhwang/anaconda3/lib/python3.7/site-packages/sklearn/model_selection/_split.py:2053: FutureWarning: You should specify a value for 'cv' instead of relying on the default value. The default value will change from 3 to 5 in version 0.22.\n",
      "  warnings.warn(CV_WARNING, FutureWarning)\n",
      "/Users/erinhwang/anaconda3/lib/python3.7/site-packages/sklearn/model_selection/_split.py:2053: FutureWarning: You should specify a value for 'cv' instead of relying on the default value. The default value will change from 3 to 5 in version 0.22.\n",
      "  warnings.warn(CV_WARNING, FutureWarning)\n"
     ]
    },
    {
     "data": {
      "text/plain": [
       "0.6003718329968822"
      ]
     },
     "execution_count": 28,
     "metadata": {},
     "output_type": "execute_result"
    }
   ],
   "source": [
    "cross_val_score(elastic, X_train, y_train, cv= 10).mean()"
   ]
  },
  {
   "cell_type": "code",
   "execution_count": 29,
   "metadata": {},
   "outputs": [
    {
     "name": "stderr",
     "output_type": "stream",
     "text": [
      "/Users/erinhwang/anaconda3/lib/python3.7/site-packages/sklearn/model_selection/_split.py:2053: FutureWarning: You should specify a value for 'cv' instead of relying on the default value. The default value will change from 3 to 5 in version 0.22.\n",
      "  warnings.warn(CV_WARNING, FutureWarning)\n",
      "/Users/erinhwang/anaconda3/lib/python3.7/site-packages/sklearn/linear_model/coordinate_descent.py:492: ConvergenceWarning: Objective did not converge. You might want to increase the number of iterations. Fitting data with very small alpha may cause precision problems.\n",
      "  ConvergenceWarning)\n",
      "/Users/erinhwang/anaconda3/lib/python3.7/site-packages/sklearn/linear_model/coordinate_descent.py:492: ConvergenceWarning: Objective did not converge. You might want to increase the number of iterations. Fitting data with very small alpha may cause precision problems.\n",
      "  ConvergenceWarning)\n",
      "/Users/erinhwang/anaconda3/lib/python3.7/site-packages/sklearn/model_selection/_split.py:2053: FutureWarning: You should specify a value for 'cv' instead of relying on the default value. The default value will change from 3 to 5 in version 0.22.\n",
      "  warnings.warn(CV_WARNING, FutureWarning)\n",
      "/Users/erinhwang/anaconda3/lib/python3.7/site-packages/sklearn/linear_model/coordinate_descent.py:492: ConvergenceWarning: Objective did not converge. You might want to increase the number of iterations. Fitting data with very small alpha may cause precision problems.\n",
      "  ConvergenceWarning)\n",
      "/Users/erinhwang/anaconda3/lib/python3.7/site-packages/sklearn/linear_model/coordinate_descent.py:492: ConvergenceWarning: Objective did not converge. You might want to increase the number of iterations. Fitting data with very small alpha may cause precision problems.\n",
      "  ConvergenceWarning)\n",
      "/Users/erinhwang/anaconda3/lib/python3.7/site-packages/sklearn/linear_model/coordinate_descent.py:492: ConvergenceWarning: Objective did not converge. You might want to increase the number of iterations. Fitting data with very small alpha may cause precision problems.\n",
      "  ConvergenceWarning)\n",
      "/Users/erinhwang/anaconda3/lib/python3.7/site-packages/sklearn/model_selection/_split.py:2053: FutureWarning: You should specify a value for 'cv' instead of relying on the default value. The default value will change from 3 to 5 in version 0.22.\n",
      "  warnings.warn(CV_WARNING, FutureWarning)\n",
      "/Users/erinhwang/anaconda3/lib/python3.7/site-packages/sklearn/linear_model/coordinate_descent.py:492: ConvergenceWarning: Objective did not converge. You might want to increase the number of iterations. Fitting data with very small alpha may cause precision problems.\n",
      "  ConvergenceWarning)\n",
      "/Users/erinhwang/anaconda3/lib/python3.7/site-packages/sklearn/linear_model/coordinate_descent.py:492: ConvergenceWarning: Objective did not converge. You might want to increase the number of iterations. Fitting data with very small alpha may cause precision problems.\n",
      "  ConvergenceWarning)\n",
      "/Users/erinhwang/anaconda3/lib/python3.7/site-packages/sklearn/linear_model/coordinate_descent.py:492: ConvergenceWarning: Objective did not converge. You might want to increase the number of iterations. Fitting data with very small alpha may cause precision problems.\n",
      "  ConvergenceWarning)\n",
      "/Users/erinhwang/anaconda3/lib/python3.7/site-packages/sklearn/linear_model/coordinate_descent.py:492: ConvergenceWarning: Objective did not converge. You might want to increase the number of iterations. Fitting data with very small alpha may cause precision problems.\n",
      "  ConvergenceWarning)\n",
      "/Users/erinhwang/anaconda3/lib/python3.7/site-packages/sklearn/linear_model/coordinate_descent.py:492: ConvergenceWarning: Objective did not converge. You might want to increase the number of iterations. Fitting data with very small alpha may cause precision problems.\n",
      "  ConvergenceWarning)\n",
      "/Users/erinhwang/anaconda3/lib/python3.7/site-packages/sklearn/linear_model/coordinate_descent.py:492: ConvergenceWarning: Objective did not converge. You might want to increase the number of iterations. Fitting data with very small alpha may cause precision problems.\n",
      "  ConvergenceWarning)\n",
      "/Users/erinhwang/anaconda3/lib/python3.7/site-packages/sklearn/linear_model/coordinate_descent.py:492: ConvergenceWarning: Objective did not converge. You might want to increase the number of iterations. Fitting data with very small alpha may cause precision problems.\n",
      "  ConvergenceWarning)\n",
      "/Users/erinhwang/anaconda3/lib/python3.7/site-packages/sklearn/model_selection/_split.py:2053: FutureWarning: You should specify a value for 'cv' instead of relying on the default value. The default value will change from 3 to 5 in version 0.22.\n",
      "  warnings.warn(CV_WARNING, FutureWarning)\n",
      "/Users/erinhwang/anaconda3/lib/python3.7/site-packages/sklearn/linear_model/coordinate_descent.py:492: ConvergenceWarning: Objective did not converge. You might want to increase the number of iterations. Fitting data with very small alpha may cause precision problems.\n",
      "  ConvergenceWarning)\n",
      "/Users/erinhwang/anaconda3/lib/python3.7/site-packages/sklearn/linear_model/coordinate_descent.py:492: ConvergenceWarning: Objective did not converge. You might want to increase the number of iterations. Fitting data with very small alpha may cause precision problems.\n",
      "  ConvergenceWarning)\n",
      "/Users/erinhwang/anaconda3/lib/python3.7/site-packages/sklearn/linear_model/coordinate_descent.py:492: ConvergenceWarning: Objective did not converge. You might want to increase the number of iterations. Fitting data with very small alpha may cause precision problems.\n",
      "  ConvergenceWarning)\n",
      "/Users/erinhwang/anaconda3/lib/python3.7/site-packages/sklearn/linear_model/coordinate_descent.py:492: ConvergenceWarning: Objective did not converge. You might want to increase the number of iterations. Fitting data with very small alpha may cause precision problems.\n",
      "  ConvergenceWarning)\n",
      "/Users/erinhwang/anaconda3/lib/python3.7/site-packages/sklearn/model_selection/_split.py:2053: FutureWarning: You should specify a value for 'cv' instead of relying on the default value. The default value will change from 3 to 5 in version 0.22.\n",
      "  warnings.warn(CV_WARNING, FutureWarning)\n",
      "/Users/erinhwang/anaconda3/lib/python3.7/site-packages/sklearn/linear_model/coordinate_descent.py:492: ConvergenceWarning: Objective did not converge. You might want to increase the number of iterations. Fitting data with very small alpha may cause precision problems.\n",
      "  ConvergenceWarning)\n",
      "/Users/erinhwang/anaconda3/lib/python3.7/site-packages/sklearn/model_selection/_split.py:2053: FutureWarning: You should specify a value for 'cv' instead of relying on the default value. The default value will change from 3 to 5 in version 0.22.\n",
      "  warnings.warn(CV_WARNING, FutureWarning)\n",
      "/Users/erinhwang/anaconda3/lib/python3.7/site-packages/sklearn/linear_model/coordinate_descent.py:492: ConvergenceWarning: Objective did not converge. You might want to increase the number of iterations. Fitting data with very small alpha may cause precision problems.\n",
      "  ConvergenceWarning)\n",
      "/Users/erinhwang/anaconda3/lib/python3.7/site-packages/sklearn/linear_model/coordinate_descent.py:492: ConvergenceWarning: Objective did not converge. You might want to increase the number of iterations. Fitting data with very small alpha may cause precision problems.\n",
      "  ConvergenceWarning)\n",
      "/Users/erinhwang/anaconda3/lib/python3.7/site-packages/sklearn/linear_model/coordinate_descent.py:492: ConvergenceWarning: Objective did not converge. You might want to increase the number of iterations. Fitting data with very small alpha may cause precision problems.\n",
      "  ConvergenceWarning)\n",
      "/Users/erinhwang/anaconda3/lib/python3.7/site-packages/sklearn/linear_model/coordinate_descent.py:492: ConvergenceWarning: Objective did not converge. You might want to increase the number of iterations. Fitting data with very small alpha may cause precision problems.\n",
      "  ConvergenceWarning)\n",
      "/Users/erinhwang/anaconda3/lib/python3.7/site-packages/sklearn/model_selection/_split.py:2053: FutureWarning: You should specify a value for 'cv' instead of relying on the default value. The default value will change from 3 to 5 in version 0.22.\n",
      "  warnings.warn(CV_WARNING, FutureWarning)\n",
      "/Users/erinhwang/anaconda3/lib/python3.7/site-packages/sklearn/linear_model/coordinate_descent.py:492: ConvergenceWarning: Objective did not converge. You might want to increase the number of iterations. Fitting data with very small alpha may cause precision problems.\n",
      "  ConvergenceWarning)\n",
      "/Users/erinhwang/anaconda3/lib/python3.7/site-packages/sklearn/model_selection/_split.py:2053: FutureWarning: You should specify a value for 'cv' instead of relying on the default value. The default value will change from 3 to 5 in version 0.22.\n",
      "  warnings.warn(CV_WARNING, FutureWarning)\n",
      "/Users/erinhwang/anaconda3/lib/python3.7/site-packages/sklearn/linear_model/coordinate_descent.py:492: ConvergenceWarning: Objective did not converge. You might want to increase the number of iterations. Fitting data with very small alpha may cause precision problems.\n",
      "  ConvergenceWarning)\n",
      "/Users/erinhwang/anaconda3/lib/python3.7/site-packages/sklearn/linear_model/coordinate_descent.py:492: ConvergenceWarning: Objective did not converge. You might want to increase the number of iterations. Fitting data with very small alpha may cause precision problems.\n",
      "  ConvergenceWarning)\n",
      "/Users/erinhwang/anaconda3/lib/python3.7/site-packages/sklearn/linear_model/coordinate_descent.py:492: ConvergenceWarning: Objective did not converge. You might want to increase the number of iterations. Fitting data with very small alpha may cause precision problems.\n",
      "  ConvergenceWarning)\n",
      "/Users/erinhwang/anaconda3/lib/python3.7/site-packages/sklearn/linear_model/coordinate_descent.py:492: ConvergenceWarning: Objective did not converge. You might want to increase the number of iterations. Fitting data with very small alpha may cause precision problems.\n",
      "  ConvergenceWarning)\n"
     ]
    },
    {
     "name": "stderr",
     "output_type": "stream",
     "text": [
      "/Users/erinhwang/anaconda3/lib/python3.7/site-packages/sklearn/model_selection/_split.py:2053: FutureWarning: You should specify a value for 'cv' instead of relying on the default value. The default value will change from 3 to 5 in version 0.22.\n",
      "  warnings.warn(CV_WARNING, FutureWarning)\n",
      "/Users/erinhwang/anaconda3/lib/python3.7/site-packages/sklearn/model_selection/_split.py:2053: FutureWarning: You should specify a value for 'cv' instead of relying on the default value. The default value will change from 3 to 5 in version 0.22.\n",
      "  warnings.warn(CV_WARNING, FutureWarning)\n",
      "/Users/erinhwang/anaconda3/lib/python3.7/site-packages/sklearn/linear_model/coordinate_descent.py:492: ConvergenceWarning: Objective did not converge. You might want to increase the number of iterations. Fitting data with very small alpha may cause precision problems.\n",
      "  ConvergenceWarning)\n",
      "/Users/erinhwang/anaconda3/lib/python3.7/site-packages/sklearn/linear_model/coordinate_descent.py:492: ConvergenceWarning: Objective did not converge. You might want to increase the number of iterations. Fitting data with very small alpha may cause precision problems.\n",
      "  ConvergenceWarning)\n",
      "/Users/erinhwang/anaconda3/lib/python3.7/site-packages/sklearn/linear_model/coordinate_descent.py:492: ConvergenceWarning: Objective did not converge. You might want to increase the number of iterations. Fitting data with very small alpha may cause precision problems.\n",
      "  ConvergenceWarning)\n",
      "/Users/erinhwang/anaconda3/lib/python3.7/site-packages/sklearn/linear_model/coordinate_descent.py:492: ConvergenceWarning: Objective did not converge. You might want to increase the number of iterations. Fitting data with very small alpha may cause precision problems.\n",
      "  ConvergenceWarning)\n",
      "/Users/erinhwang/anaconda3/lib/python3.7/site-packages/sklearn/linear_model/coordinate_descent.py:492: ConvergenceWarning: Objective did not converge. You might want to increase the number of iterations. Fitting data with very small alpha may cause precision problems.\n",
      "  ConvergenceWarning)\n",
      "/Users/erinhwang/anaconda3/lib/python3.7/site-packages/sklearn/linear_model/coordinate_descent.py:492: ConvergenceWarning: Objective did not converge. You might want to increase the number of iterations. Fitting data with very small alpha may cause precision problems.\n",
      "  ConvergenceWarning)\n",
      "/Users/erinhwang/anaconda3/lib/python3.7/site-packages/sklearn/linear_model/coordinate_descent.py:492: ConvergenceWarning: Objective did not converge. You might want to increase the number of iterations. Fitting data with very small alpha may cause precision problems.\n",
      "  ConvergenceWarning)\n",
      "/Users/erinhwang/anaconda3/lib/python3.7/site-packages/sklearn/linear_model/coordinate_descent.py:492: ConvergenceWarning: Objective did not converge. You might want to increase the number of iterations. Fitting data with very small alpha may cause precision problems.\n",
      "  ConvergenceWarning)\n",
      "/Users/erinhwang/anaconda3/lib/python3.7/site-packages/sklearn/linear_model/coordinate_descent.py:492: ConvergenceWarning: Objective did not converge. You might want to increase the number of iterations. Fitting data with very small alpha may cause precision problems.\n",
      "  ConvergenceWarning)\n",
      "/Users/erinhwang/anaconda3/lib/python3.7/site-packages/sklearn/linear_model/coordinate_descent.py:492: ConvergenceWarning: Objective did not converge. You might want to increase the number of iterations. Fitting data with very small alpha may cause precision problems.\n",
      "  ConvergenceWarning)\n",
      "/Users/erinhwang/anaconda3/lib/python3.7/site-packages/sklearn/linear_model/coordinate_descent.py:492: ConvergenceWarning: Objective did not converge. You might want to increase the number of iterations. Fitting data with very small alpha may cause precision problems.\n",
      "  ConvergenceWarning)\n"
     ]
    },
    {
     "data": {
      "text/plain": [
       "0.7825381459907106"
      ]
     },
     "execution_count": 29,
     "metadata": {},
     "output_type": "execute_result"
    }
   ],
   "source": [
    "cross_val_score(lasso, X_train, y_train, cv= 10).mean()"
   ]
  },
  {
   "cell_type": "markdown",
   "metadata": {},
   "source": [
    "# Proceed with Ridge"
   ]
  },
  {
   "cell_type": "code",
   "execution_count": 30,
   "metadata": {},
   "outputs": [
    {
     "data": {
      "text/plain": [
       "RidgeCV(alphas=array([ 0.1,  1. , 10. ]), cv=None, fit_intercept=True,\n",
       "    gcv_mode=None, normalize=False, scoring=None, store_cv_values=False)"
      ]
     },
     "execution_count": 30,
     "metadata": {},
     "output_type": "execute_result"
    }
   ],
   "source": [
    "ridge.fit(X_train, y_train)"
   ]
  },
  {
   "cell_type": "code",
   "execution_count": 31,
   "metadata": {},
   "outputs": [
    {
     "data": {
      "text/plain": [
       "0.8666884410559597"
      ]
     },
     "execution_count": 31,
     "metadata": {},
     "output_type": "execute_result"
    }
   ],
   "source": [
    "#cv scores\n",
    "cross_val_score(ridge, X_train, y_train, cv=10).mean()"
   ]
  },
  {
   "cell_type": "code",
   "execution_count": 32,
   "metadata": {},
   "outputs": [
    {
     "data": {
      "text/plain": [
       "0.9283344627138861"
      ]
     },
     "execution_count": 32,
     "metadata": {},
     "output_type": "execute_result"
    }
   ],
   "source": [
    "#train score\n",
    "ridge.score(X_train, y_train)"
   ]
  },
  {
   "cell_type": "code",
   "execution_count": 33,
   "metadata": {},
   "outputs": [
    {
     "data": {
      "text/plain": [
       "0.9031217146268262"
      ]
     },
     "execution_count": 33,
     "metadata": {},
     "output_type": "execute_result"
    }
   ],
   "source": [
    "#test score\n",
    "ridge.score(X_test, y_test)"
   ]
  },
  {
   "cell_type": "code",
   "execution_count": 34,
   "metadata": {},
   "outputs": [],
   "source": [
    "from sklearn.metrics import mean_squared_error\n",
    "import math"
   ]
  },
  {
   "cell_type": "code",
   "execution_count": 35,
   "metadata": {},
   "outputs": [],
   "source": [
    "#train prediction \n",
    "train_pred = ridge.predict(X_train)"
   ]
  },
  {
   "cell_type": "code",
   "execution_count": 36,
   "metadata": {},
   "outputs": [
    {
     "data": {
      "text/plain": [
       "459117493.74163485"
      ]
     },
     "execution_count": 36,
     "metadata": {},
     "output_type": "execute_result"
    }
   ],
   "source": [
    "#mse train\n",
    "mean_squared_error(y_train, train_pred)"
   ]
  },
  {
   "cell_type": "code",
   "execution_count": 37,
   "metadata": {},
   "outputs": [],
   "source": [
    "#import numpy as np"
   ]
  },
  {
   "cell_type": "code",
   "execution_count": 38,
   "metadata": {},
   "outputs": [
    {
     "data": {
      "text/plain": [
       "21427.027179280725"
      ]
     },
     "execution_count": 38,
     "metadata": {},
     "output_type": "execute_result"
    }
   ],
   "source": [
    "#rmse train\n",
    "np.sqrt(mean_squared_error(y_train, train_pred))"
   ]
  },
  {
   "cell_type": "code",
   "execution_count": 39,
   "metadata": {},
   "outputs": [],
   "source": [
    "#test prediction \n",
    "test_pred = ridge.predict(X_test)"
   ]
  },
  {
   "cell_type": "code",
   "execution_count": 40,
   "metadata": {},
   "outputs": [
    {
     "data": {
      "text/plain": [
       "579082877.2663937"
      ]
     },
     "execution_count": 40,
     "metadata": {},
     "output_type": "execute_result"
    }
   ],
   "source": [
    "#mse test\n",
    "mean_squared_error(y_test, test_pred)"
   ]
  },
  {
   "cell_type": "code",
   "execution_count": 41,
   "metadata": {},
   "outputs": [
    {
     "data": {
      "text/plain": [
       "24064.140900235638"
      ]
     },
     "execution_count": 41,
     "metadata": {},
     "output_type": "execute_result"
    }
   ],
   "source": [
    "#rmse test\n",
    "np.sqrt(mean_squared_error(y_test, test_pred))"
   ]
  },
  {
   "cell_type": "markdown",
   "metadata": {},
   "source": [
    "# Import Clean Test.csv data"
   ]
  },
  {
   "cell_type": "code",
   "execution_count": 42,
   "metadata": {},
   "outputs": [],
   "source": [
    "test = pd.read_csv('./datasets/clean_test.csv')"
   ]
  },
  {
   "cell_type": "code",
   "execution_count": 43,
   "metadata": {},
   "outputs": [
    {
     "data": {
      "text/html": [
       "<div>\n",
       "<style scoped>\n",
       "    .dataframe tbody tr th:only-of-type {\n",
       "        vertical-align: middle;\n",
       "    }\n",
       "\n",
       "    .dataframe tbody tr th {\n",
       "        vertical-align: top;\n",
       "    }\n",
       "\n",
       "    .dataframe thead th {\n",
       "        text-align: right;\n",
       "    }\n",
       "</style>\n",
       "<table border=\"1\" class=\"dataframe\">\n",
       "  <thead>\n",
       "    <tr style=\"text-align: right;\">\n",
       "      <th></th>\n",
       "      <th>Unnamed: 0</th>\n",
       "      <th>Id</th>\n",
       "      <th>PID</th>\n",
       "      <th>MS SubClass</th>\n",
       "      <th>Lot Frontage</th>\n",
       "      <th>Lot Area</th>\n",
       "      <th>Overall Qual</th>\n",
       "      <th>Overall Cond</th>\n",
       "      <th>Year Built</th>\n",
       "      <th>Year Remod/Add</th>\n",
       "      <th>...</th>\n",
       "      <th>Sale Type_COD</th>\n",
       "      <th>Sale Type_CWD</th>\n",
       "      <th>Sale Type_Con</th>\n",
       "      <th>Sale Type_ConLD</th>\n",
       "      <th>Sale Type_ConLI</th>\n",
       "      <th>Sale Type_ConLw</th>\n",
       "      <th>Sale Type_New</th>\n",
       "      <th>Sale Type_Oth</th>\n",
       "      <th>Sale Type_VWD</th>\n",
       "      <th>Sale Type_WD</th>\n",
       "    </tr>\n",
       "  </thead>\n",
       "  <tbody>\n",
       "    <tr>\n",
       "      <th>0</th>\n",
       "      <td>0</td>\n",
       "      <td>2658</td>\n",
       "      <td>902301120</td>\n",
       "      <td>190</td>\n",
       "      <td>69.0</td>\n",
       "      <td>9142</td>\n",
       "      <td>6</td>\n",
       "      <td>8</td>\n",
       "      <td>1910</td>\n",
       "      <td>1950</td>\n",
       "      <td>...</td>\n",
       "      <td>0</td>\n",
       "      <td>0</td>\n",
       "      <td>0</td>\n",
       "      <td>0</td>\n",
       "      <td>0</td>\n",
       "      <td>0</td>\n",
       "      <td>0</td>\n",
       "      <td>0</td>\n",
       "      <td>0</td>\n",
       "      <td>1</td>\n",
       "    </tr>\n",
       "    <tr>\n",
       "      <th>1</th>\n",
       "      <td>1</td>\n",
       "      <td>2718</td>\n",
       "      <td>905108090</td>\n",
       "      <td>90</td>\n",
       "      <td>68.0</td>\n",
       "      <td>9662</td>\n",
       "      <td>5</td>\n",
       "      <td>4</td>\n",
       "      <td>1977</td>\n",
       "      <td>1977</td>\n",
       "      <td>...</td>\n",
       "      <td>0</td>\n",
       "      <td>0</td>\n",
       "      <td>0</td>\n",
       "      <td>0</td>\n",
       "      <td>0</td>\n",
       "      <td>0</td>\n",
       "      <td>0</td>\n",
       "      <td>0</td>\n",
       "      <td>0</td>\n",
       "      <td>1</td>\n",
       "    </tr>\n",
       "    <tr>\n",
       "      <th>2</th>\n",
       "      <td>2</td>\n",
       "      <td>2414</td>\n",
       "      <td>528218130</td>\n",
       "      <td>60</td>\n",
       "      <td>58.0</td>\n",
       "      <td>17104</td>\n",
       "      <td>7</td>\n",
       "      <td>5</td>\n",
       "      <td>2006</td>\n",
       "      <td>2006</td>\n",
       "      <td>...</td>\n",
       "      <td>0</td>\n",
       "      <td>0</td>\n",
       "      <td>0</td>\n",
       "      <td>0</td>\n",
       "      <td>0</td>\n",
       "      <td>0</td>\n",
       "      <td>1</td>\n",
       "      <td>0</td>\n",
       "      <td>0</td>\n",
       "      <td>0</td>\n",
       "    </tr>\n",
       "    <tr>\n",
       "      <th>3</th>\n",
       "      <td>3</td>\n",
       "      <td>1989</td>\n",
       "      <td>902207150</td>\n",
       "      <td>30</td>\n",
       "      <td>60.0</td>\n",
       "      <td>8520</td>\n",
       "      <td>5</td>\n",
       "      <td>6</td>\n",
       "      <td>1923</td>\n",
       "      <td>2006</td>\n",
       "      <td>...</td>\n",
       "      <td>0</td>\n",
       "      <td>0</td>\n",
       "      <td>0</td>\n",
       "      <td>0</td>\n",
       "      <td>0</td>\n",
       "      <td>0</td>\n",
       "      <td>0</td>\n",
       "      <td>0</td>\n",
       "      <td>0</td>\n",
       "      <td>1</td>\n",
       "    </tr>\n",
       "    <tr>\n",
       "      <th>4</th>\n",
       "      <td>4</td>\n",
       "      <td>625</td>\n",
       "      <td>535105100</td>\n",
       "      <td>20</td>\n",
       "      <td>68.0</td>\n",
       "      <td>9500</td>\n",
       "      <td>6</td>\n",
       "      <td>5</td>\n",
       "      <td>1963</td>\n",
       "      <td>1963</td>\n",
       "      <td>...</td>\n",
       "      <td>0</td>\n",
       "      <td>0</td>\n",
       "      <td>0</td>\n",
       "      <td>0</td>\n",
       "      <td>0</td>\n",
       "      <td>0</td>\n",
       "      <td>0</td>\n",
       "      <td>0</td>\n",
       "      <td>0</td>\n",
       "      <td>1</td>\n",
       "    </tr>\n",
       "  </tbody>\n",
       "</table>\n",
       "<p>5 rows × 278 columns</p>\n",
       "</div>"
      ],
      "text/plain": [
       "   Unnamed: 0    Id        PID  MS SubClass  Lot Frontage  Lot Area  \\\n",
       "0           0  2658  902301120          190          69.0      9142   \n",
       "1           1  2718  905108090           90          68.0      9662   \n",
       "2           2  2414  528218130           60          58.0     17104   \n",
       "3           3  1989  902207150           30          60.0      8520   \n",
       "4           4   625  535105100           20          68.0      9500   \n",
       "\n",
       "   Overall Qual  Overall Cond  Year Built  Year Remod/Add      ...        \\\n",
       "0             6             8        1910            1950      ...         \n",
       "1             5             4        1977            1977      ...         \n",
       "2             7             5        2006            2006      ...         \n",
       "3             5             6        1923            2006      ...         \n",
       "4             6             5        1963            1963      ...         \n",
       "\n",
       "   Sale Type_COD  Sale Type_CWD  Sale Type_Con  Sale Type_ConLD  \\\n",
       "0              0              0              0                0   \n",
       "1              0              0              0                0   \n",
       "2              0              0              0                0   \n",
       "3              0              0              0                0   \n",
       "4              0              0              0                0   \n",
       "\n",
       "   Sale Type_ConLI  Sale Type_ConLw  Sale Type_New  Sale Type_Oth  \\\n",
       "0                0                0              0              0   \n",
       "1                0                0              0              0   \n",
       "2                0                0              1              0   \n",
       "3                0                0              0              0   \n",
       "4                0                0              0              0   \n",
       "\n",
       "   Sale Type_VWD  Sale Type_WD   \n",
       "0              0              1  \n",
       "1              0              1  \n",
       "2              0              0  \n",
       "3              0              1  \n",
       "4              0              1  \n",
       "\n",
       "[5 rows x 278 columns]"
      ]
     },
     "execution_count": 43,
     "metadata": {},
     "output_type": "execute_result"
    }
   ],
   "source": [
    "test.head()"
   ]
  },
  {
   "cell_type": "code",
   "execution_count": 44,
   "metadata": {},
   "outputs": [
    {
     "data": {
      "text/plain": [
       "(879, 39)"
      ]
     },
     "execution_count": 44,
     "metadata": {},
     "output_type": "execute_result"
    }
   ],
   "source": [
    "test[numeric_col].shape"
   ]
  },
  {
   "cell_type": "code",
   "execution_count": 45,
   "metadata": {},
   "outputs": [
    {
     "data": {
      "text/plain": [
       "(879, 3)"
      ]
     },
     "execution_count": 45,
     "metadata": {},
     "output_type": "execute_result"
    }
   ],
   "source": [
    "test[dummy_col].shape"
   ]
  },
  {
   "cell_type": "markdown",
   "metadata": {},
   "source": [
    "# Polynomial Transformation of Test"
   ]
  },
  {
   "cell_type": "code",
   "execution_count": 46,
   "metadata": {},
   "outputs": [],
   "source": [
    "X = test[numeric_col]\n",
    "poly = PolynomialFeatures(include_bias= False)\n",
    "X_test_poly = poly.fit_transform(X)"
   ]
  },
  {
   "cell_type": "code",
   "execution_count": 47,
   "metadata": {},
   "outputs": [],
   "source": [
    "#creating a dataframe of our polynomial features\n",
    "poly_df = pd.DataFrame(X_test_poly, columns = poly.get_feature_names(numeric_col))"
   ]
  },
  {
   "cell_type": "code",
   "execution_count": 48,
   "metadata": {},
   "outputs": [
    {
     "data": {
      "text/plain": [
       "(879, 819)"
      ]
     },
     "execution_count": 48,
     "metadata": {},
     "output_type": "execute_result"
    }
   ],
   "source": [
    "poly_df.shape"
   ]
  },
  {
   "cell_type": "code",
   "execution_count": 49,
   "metadata": {},
   "outputs": [
    {
     "data": {
      "text/plain": [
       "(879, 164)"
      ]
     },
     "execution_count": 49,
     "metadata": {},
     "output_type": "execute_result"
    }
   ],
   "source": [
    "#using same list from model \n",
    "poly_df[corr_col].shape"
   ]
  },
  {
   "cell_type": "markdown",
   "metadata": {},
   "source": [
    "# Test Scale Time"
   ]
  },
  {
   "cell_type": "code",
   "execution_count": 50,
   "metadata": {},
   "outputs": [],
   "source": [
    "#I want to standardize my new polynomial features \n",
    "X = poly_df[corr_col]"
   ]
  },
  {
   "cell_type": "code",
   "execution_count": 51,
   "metadata": {},
   "outputs": [],
   "source": [
    "poly_test_scaled = ss.transform(X)"
   ]
  },
  {
   "cell_type": "code",
   "execution_count": 52,
   "metadata": {},
   "outputs": [],
   "source": [
    "test_poly = pd.DataFrame(poly_test_scaled, columns = corr_col)"
   ]
  },
  {
   "cell_type": "code",
   "execution_count": 53,
   "metadata": {},
   "outputs": [
    {
     "data": {
      "text/plain": [
       "(879, 164)"
      ]
     },
     "execution_count": 53,
     "metadata": {},
     "output_type": "execute_result"
    }
   ],
   "source": [
    "test_poly.shape"
   ]
  },
  {
   "cell_type": "markdown",
   "metadata": {},
   "source": [
    "# Lets append the dummies"
   ]
  },
  {
   "cell_type": "code",
   "execution_count": 54,
   "metadata": {},
   "outputs": [
    {
     "data": {
      "text/plain": [
       "(879, 3)"
      ]
     },
     "execution_count": 54,
     "metadata": {},
     "output_type": "execute_result"
    }
   ],
   "source": [
    "test[dummy_col].shape"
   ]
  },
  {
   "cell_type": "code",
   "execution_count": 55,
   "metadata": {},
   "outputs": [],
   "source": [
    "test_features = test_poly.join(test[dummy_col])"
   ]
  },
  {
   "cell_type": "code",
   "execution_count": 56,
   "metadata": {},
   "outputs": [
    {
     "data": {
      "text/plain": [
       "(879, 167)"
      ]
     },
     "execution_count": 56,
     "metadata": {},
     "output_type": "execute_result"
    }
   ],
   "source": [
    "test_features.shape"
   ]
  },
  {
   "cell_type": "markdown",
   "metadata": {},
   "source": [
    "# Predict using Ridge"
   ]
  },
  {
   "cell_type": "code",
   "execution_count": 57,
   "metadata": {},
   "outputs": [],
   "source": [
    "pred = ridge.predict(test_features)"
   ]
  },
  {
   "cell_type": "code",
   "execution_count": null,
   "metadata": {},
   "outputs": [],
   "source": []
  },
  {
   "cell_type": "markdown",
   "metadata": {},
   "source": [
    "# Before we transfer our predictions, lets make sure our model is right\n",
    "- In the `Ames_GridSearch1` notebook, we will grid search using elastic net to see best fit and determine if we should consider the Lasso and or Ridge model. \n",
    "\n",
    "*Note: Please look at the `Ames_GridSearch1` notebook to see how we executed our GrideSearch model*"
   ]
  },
  {
   "cell_type": "markdown",
   "metadata": {},
   "source": [
    "# Model Conclusion"
   ]
  },
  {
   "cell_type": "markdown",
   "metadata": {},
   "source": [
    "By executing the `cross_val_score`, proceeding with the `Ridge` was the best model for us. Here are the following regression metrics for Ridge:\n",
    "\n",
    "|Metric|Score|\n",
    "|---|---|\n",
    "|Train Score|.9283|\n",
    "|Test Score|.9031|\n",
    "|RMSE Train|21,427|\n",
    "|RMSE Test|24,064|\n",
    "\n",
    "By executing `GridSearchCV`, we used `ElasticNet` as the model since it involves both Lasso and Ridge. GridSearch will tells us the best ratio between Lasso and Ridge. After looking at the recommended parameters, we computed regression metrics. Here are the following metrics for elastic. \n",
    "\n",
    "|Metric|Score|\n",
    "|---|---|\n",
    "|Train Score|.9280|\n",
    "|Test Score|.8978|\n",
    "|RMSE Train|21,467|\n",
    "|RMSE Test|24,711|\n",
    "\n",
    "**Final:** For the features we used in our regression model, it is best to proceed with the ridge model since the overall test score and RMSE score have a better overall fit with the true sale price of homes. "
   ]
  },
  {
   "cell_type": "markdown",
   "metadata": {},
   "source": [
    "# Create CSV to import results"
   ]
  },
  {
   "cell_type": "code",
   "execution_count": 58,
   "metadata": {},
   "outputs": [
    {
     "data": {
      "text/plain": [
       "(879,)"
      ]
     },
     "execution_count": 58,
     "metadata": {},
     "output_type": "execute_result"
    }
   ],
   "source": [
    "test['Id'].shape"
   ]
  },
  {
   "cell_type": "code",
   "execution_count": 59,
   "metadata": {},
   "outputs": [
    {
     "data": {
      "text/plain": [
       "(879,)"
      ]
     },
     "execution_count": 59,
     "metadata": {},
     "output_type": "execute_result"
    }
   ],
   "source": [
    "pred.shape"
   ]
  },
  {
   "cell_type": "code",
   "execution_count": 60,
   "metadata": {},
   "outputs": [],
   "source": [
    "submission = pd.DataFrame({\n",
    "    'Id': test['Id'],\n",
    "    'SalePrice': pred\n",
    "})\n",
    "\n",
    "submission.to_csv('./datasets/submissionv_thattooklong4.csv', index= False)"
   ]
  },
  {
   "cell_type": "code",
   "execution_count": null,
   "metadata": {},
   "outputs": [],
   "source": []
  }
 ],
 "metadata": {
  "kernelspec": {
   "display_name": "Python 3",
   "language": "python",
   "name": "python3"
  },
  "language_info": {
   "codemirror_mode": {
    "name": "ipython",
    "version": 3
   },
   "file_extension": ".py",
   "mimetype": "text/x-python",
   "name": "python",
   "nbconvert_exporter": "python",
   "pygments_lexer": "ipython3",
   "version": "3.7.1"
  }
 },
 "nbformat": 4,
 "nbformat_minor": 2
}
