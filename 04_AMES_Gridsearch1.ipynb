{
 "cells": [
  {
   "cell_type": "markdown",
   "metadata": {},
   "source": [
    "# Ames Gridsearch\n",
    "***\n"
   ]
  },
  {
   "cell_type": "markdown",
   "metadata": {},
   "source": [
    "- Dummy varaibles are picked when corr > .50\n",
    "- Polynomial Features were picked when corr > 0.50\n",
    "- `train_features_for_gridsearch` is already scaled \n",
    "\n",
    "**Total of 253 features (250 numeric and 3 dummy columns)**"
   ]
  },
  {
   "cell_type": "code",
   "execution_count": 1,
   "metadata": {},
   "outputs": [],
   "source": [
    "import numpy as np\n",
    "import pandas as pd\n",
    "import seaborn as sns\n",
    "\n",
    "from sklearn.linear_model import ElasticNet, Lasso\n",
    "from sklearn.metrics import mean_squared_error\n",
    "from sklearn.preprocessing import StandardScaler\n",
    "from sklearn.model_selection import train_test_split, GridSearchCV"
   ]
  },
  {
   "cell_type": "code",
   "execution_count": 2,
   "metadata": {},
   "outputs": [
    {
     "data": {
      "text/html": [
       "<div>\n",
       "<style scoped>\n",
       "    .dataframe tbody tr th:only-of-type {\n",
       "        vertical-align: middle;\n",
       "    }\n",
       "\n",
       "    .dataframe tbody tr th {\n",
       "        vertical-align: top;\n",
       "    }\n",
       "\n",
       "    .dataframe thead th {\n",
       "        text-align: right;\n",
       "    }\n",
       "</style>\n",
       "<table border=\"1\" class=\"dataframe\">\n",
       "  <thead>\n",
       "    <tr style=\"text-align: right;\">\n",
       "      <th></th>\n",
       "      <th>Unnamed: 0</th>\n",
       "      <th>Overall Qual</th>\n",
       "      <th>Year Built</th>\n",
       "      <th>Year Remod/Add</th>\n",
       "      <th>Mas Vnr Area</th>\n",
       "      <th>Total Bsmt SF</th>\n",
       "      <th>1st Flr SF</th>\n",
       "      <th>Gr Liv Area</th>\n",
       "      <th>Full Bath</th>\n",
       "      <th>TotRms AbvGrd</th>\n",
       "      <th>...</th>\n",
       "      <th>Garage Area^2</th>\n",
       "      <th>Garage Area Yr Sold</th>\n",
       "      <th>Garage Area baths</th>\n",
       "      <th>Yr Sold homeage</th>\n",
       "      <th>Yr Sold baths</th>\n",
       "      <th>Yr Sold garageage</th>\n",
       "      <th>baths^2</th>\n",
       "      <th>Foundation_PConc</th>\n",
       "      <th>Bsmt Qual_Ex</th>\n",
       "      <th>Kitchen Qual_Ex</th>\n",
       "    </tr>\n",
       "  </thead>\n",
       "  <tbody>\n",
       "    <tr>\n",
       "      <th>0</th>\n",
       "      <td>0</td>\n",
       "      <td>-0.078644</td>\n",
       "      <td>0.142227</td>\n",
       "      <td>0.989479</td>\n",
       "      <td>1.092329</td>\n",
       "      <td>-0.741232</td>\n",
       "      <td>-1.108838</td>\n",
       "      <td>-0.040634</td>\n",
       "      <td>0.769779</td>\n",
       "      <td>-0.279441</td>\n",
       "      <td>...</td>\n",
       "      <td>-0.199323</td>\n",
       "      <td>0.008581</td>\n",
       "      <td>0.496281</td>\n",
       "      <td>-0.067210</td>\n",
       "      <td>1.160521</td>\n",
       "      <td>0.203566</td>\n",
       "      <td>1.138397</td>\n",
       "      <td>0</td>\n",
       "      <td>0</td>\n",
       "      <td>0</td>\n",
       "    </tr>\n",
       "    <tr>\n",
       "      <th>1</th>\n",
       "      <td>1</td>\n",
       "      <td>0.622656</td>\n",
       "      <td>0.805126</td>\n",
       "      <td>0.609090</td>\n",
       "      <td>0.191491</td>\n",
       "      <td>-0.322705</td>\n",
       "      <td>-0.634510</td>\n",
       "      <td>1.244529</td>\n",
       "      <td>0.769779</td>\n",
       "      <td>1.002738</td>\n",
       "      <td>...</td>\n",
       "      <td>0.182637</td>\n",
       "      <td>0.396922</td>\n",
       "      <td>0.848706</td>\n",
       "      <td>-0.763445</td>\n",
       "      <td>1.158568</td>\n",
       "      <td>-0.686130</td>\n",
       "      <td>1.138397</td>\n",
       "      <td>1</td>\n",
       "      <td>0</td>\n",
       "      <td>0</td>\n",
       "    </tr>\n",
       "    <tr>\n",
       "      <th>2</th>\n",
       "      <td>2</td>\n",
       "      <td>-0.779944</td>\n",
       "      <td>-0.620106</td>\n",
       "      <td>1.084576</td>\n",
       "      <td>-0.565901</td>\n",
       "      <td>-0.002130</td>\n",
       "      <td>-0.271195</td>\n",
       "      <td>-0.884084</td>\n",
       "      <td>-1.051232</td>\n",
       "      <td>-0.920531</td>\n",
       "      <td>...</td>\n",
       "      <td>-0.925409</td>\n",
       "      <td>-1.053629</td>\n",
       "      <td>-1.083758</td>\n",
       "      <td>0.695100</td>\n",
       "      <td>-1.194594</td>\n",
       "      <td>1.133449</td>\n",
       "      <td>-1.046041</td>\n",
       "      <td>0</td>\n",
       "      <td>0</td>\n",
       "      <td>0</td>\n",
       "    </tr>\n",
       "    <tr>\n",
       "      <th>3</th>\n",
       "      <td>3</td>\n",
       "      <td>-0.779944</td>\n",
       "      <td>1.136575</td>\n",
       "      <td>1.084576</td>\n",
       "      <td>-0.565901</td>\n",
       "      <td>-1.500370</td>\n",
       "      <td>-1.060900</td>\n",
       "      <td>-0.110588</td>\n",
       "      <td>0.769779</td>\n",
       "      <td>0.361648</td>\n",
       "      <td>...</td>\n",
       "      <td>-0.487916</td>\n",
       "      <td>-0.339305</td>\n",
       "      <td>0.181616</td>\n",
       "      <td>-1.061526</td>\n",
       "      <td>1.160521</td>\n",
       "      <td>-1.049756</td>\n",
       "      <td>1.138397</td>\n",
       "      <td>1</td>\n",
       "      <td>0</td>\n",
       "      <td>0</td>\n",
       "    </tr>\n",
       "    <tr>\n",
       "      <th>4</th>\n",
       "      <td>4</td>\n",
       "      <td>-0.078644</td>\n",
       "      <td>-2.376787</td>\n",
       "      <td>0.418896</td>\n",
       "      <td>-0.565901</td>\n",
       "      <td>-0.850317</td>\n",
       "      <td>-0.841397</td>\n",
       "      <td>-0.108589</td>\n",
       "      <td>0.769779</td>\n",
       "      <td>-0.279441</td>\n",
       "      <td>...</td>\n",
       "      <td>-0.161367</td>\n",
       "      <td>0.050327</td>\n",
       "      <td>0.127913</td>\n",
       "      <td>2.451726</td>\n",
       "      <td>0.375483</td>\n",
       "      <td>0.971731</td>\n",
       "      <td>0.202209</td>\n",
       "      <td>1</td>\n",
       "      <td>0</td>\n",
       "      <td>0</td>\n",
       "    </tr>\n",
       "  </tbody>\n",
       "</table>\n",
       "<p>5 rows × 168 columns</p>\n",
       "</div>"
      ],
      "text/plain": [
       "   Unnamed: 0  Overall Qual  Year Built  Year Remod/Add  Mas Vnr Area  \\\n",
       "0           0     -0.078644    0.142227        0.989479      1.092329   \n",
       "1           1      0.622656    0.805126        0.609090      0.191491   \n",
       "2           2     -0.779944   -0.620106        1.084576     -0.565901   \n",
       "3           3     -0.779944    1.136575        1.084576     -0.565901   \n",
       "4           4     -0.078644   -2.376787        0.418896     -0.565901   \n",
       "\n",
       "   Total Bsmt SF  1st Flr SF  Gr Liv Area  Full Bath  TotRms AbvGrd  \\\n",
       "0      -0.741232   -1.108838    -0.040634   0.769779      -0.279441   \n",
       "1      -0.322705   -0.634510     1.244529   0.769779       1.002738   \n",
       "2      -0.002130   -0.271195    -0.884084  -1.051232      -0.920531   \n",
       "3      -1.500370   -1.060900    -0.110588   0.769779       0.361648   \n",
       "4      -0.850317   -0.841397    -0.108589   0.769779      -0.279441   \n",
       "\n",
       "        ...         Garage Area^2  Garage Area Yr Sold  Garage Area baths  \\\n",
       "0       ...             -0.199323             0.008581           0.496281   \n",
       "1       ...              0.182637             0.396922           0.848706   \n",
       "2       ...             -0.925409            -1.053629          -1.083758   \n",
       "3       ...             -0.487916            -0.339305           0.181616   \n",
       "4       ...             -0.161367             0.050327           0.127913   \n",
       "\n",
       "   Yr Sold homeage  Yr Sold baths  Yr Sold garageage   baths^2  \\\n",
       "0        -0.067210       1.160521           0.203566  1.138397   \n",
       "1        -0.763445       1.158568          -0.686130  1.138397   \n",
       "2         0.695100      -1.194594           1.133449 -1.046041   \n",
       "3        -1.061526       1.160521          -1.049756  1.138397   \n",
       "4         2.451726       0.375483           0.971731  0.202209   \n",
       "\n",
       "   Foundation_PConc  Bsmt Qual_Ex  Kitchen Qual_Ex  \n",
       "0                 0             0                0  \n",
       "1                 1             0                0  \n",
       "2                 0             0                0  \n",
       "3                 1             0                0  \n",
       "4                 1             0                0  \n",
       "\n",
       "[5 rows x 168 columns]"
      ]
     },
     "execution_count": 2,
     "metadata": {},
     "output_type": "execute_result"
    }
   ],
   "source": [
    "train = pd.read_csv('./datasets/train_features_for_gridsearch')\n",
    "train.head()"
   ]
  },
  {
   "cell_type": "code",
   "execution_count": 3,
   "metadata": {},
   "outputs": [],
   "source": [
    "price = pd.read_csv('./datasets/clean_train.csv')"
   ]
  },
  {
   "cell_type": "code",
   "execution_count": 4,
   "metadata": {},
   "outputs": [
    {
     "data": {
      "text/plain": [
       "(2051,)"
      ]
     },
     "execution_count": 4,
     "metadata": {},
     "output_type": "execute_result"
    }
   ],
   "source": [
    "price['SalePrice'].shape"
   ]
  },
  {
   "cell_type": "code",
   "execution_count": 5,
   "metadata": {},
   "outputs": [
    {
     "data": {
      "text/plain": [
       "(2051, 168)"
      ]
     },
     "execution_count": 5,
     "metadata": {},
     "output_type": "execute_result"
    }
   ],
   "source": [
    "train.shape"
   ]
  },
  {
   "cell_type": "code",
   "execution_count": 6,
   "metadata": {},
   "outputs": [],
   "source": [
    "#lets drop Unnamed: 0 to make train have only the 23 features we want \n",
    "train.drop(labels = 'Unnamed: 0', axis = 1, inplace = True)"
   ]
  },
  {
   "cell_type": "code",
   "execution_count": 7,
   "metadata": {},
   "outputs": [
    {
     "data": {
      "text/html": [
       "<div>\n",
       "<style scoped>\n",
       "    .dataframe tbody tr th:only-of-type {\n",
       "        vertical-align: middle;\n",
       "    }\n",
       "\n",
       "    .dataframe tbody tr th {\n",
       "        vertical-align: top;\n",
       "    }\n",
       "\n",
       "    .dataframe thead th {\n",
       "        text-align: right;\n",
       "    }\n",
       "</style>\n",
       "<table border=\"1\" class=\"dataframe\">\n",
       "  <thead>\n",
       "    <tr style=\"text-align: right;\">\n",
       "      <th></th>\n",
       "      <th>Overall Qual</th>\n",
       "      <th>Year Built</th>\n",
       "      <th>Year Remod/Add</th>\n",
       "      <th>Mas Vnr Area</th>\n",
       "      <th>Total Bsmt SF</th>\n",
       "      <th>1st Flr SF</th>\n",
       "      <th>Gr Liv Area</th>\n",
       "      <th>Full Bath</th>\n",
       "      <th>TotRms AbvGrd</th>\n",
       "      <th>Garage Yr Blt</th>\n",
       "      <th>...</th>\n",
       "      <th>Garage Area^2</th>\n",
       "      <th>Garage Area Yr Sold</th>\n",
       "      <th>Garage Area baths</th>\n",
       "      <th>Yr Sold homeage</th>\n",
       "      <th>Yr Sold baths</th>\n",
       "      <th>Yr Sold garageage</th>\n",
       "      <th>baths^2</th>\n",
       "      <th>Foundation_PConc</th>\n",
       "      <th>Bsmt Qual_Ex</th>\n",
       "      <th>Kitchen Qual_Ex</th>\n",
       "    </tr>\n",
       "  </thead>\n",
       "  <tbody>\n",
       "    <tr>\n",
       "      <th>0</th>\n",
       "      <td>-0.078644</td>\n",
       "      <td>0.142227</td>\n",
       "      <td>0.989479</td>\n",
       "      <td>1.092329</td>\n",
       "      <td>-0.741232</td>\n",
       "      <td>-1.108838</td>\n",
       "      <td>-0.040634</td>\n",
       "      <td>0.769779</td>\n",
       "      <td>-0.279441</td>\n",
       "      <td>-0.112447</td>\n",
       "      <td>...</td>\n",
       "      <td>-0.199323</td>\n",
       "      <td>0.008581</td>\n",
       "      <td>0.496281</td>\n",
       "      <td>-0.067210</td>\n",
       "      <td>1.160521</td>\n",
       "      <td>0.203566</td>\n",
       "      <td>1.138397</td>\n",
       "      <td>0</td>\n",
       "      <td>0</td>\n",
       "      <td>0</td>\n",
       "    </tr>\n",
       "    <tr>\n",
       "      <th>1</th>\n",
       "      <td>0.622656</td>\n",
       "      <td>0.805126</td>\n",
       "      <td>0.609090</td>\n",
       "      <td>0.191491</td>\n",
       "      <td>-0.322705</td>\n",
       "      <td>-0.634510</td>\n",
       "      <td>1.244529</td>\n",
       "      <td>0.769779</td>\n",
       "      <td>1.002738</td>\n",
       "      <td>0.737090</td>\n",
       "      <td>...</td>\n",
       "      <td>0.182637</td>\n",
       "      <td>0.396922</td>\n",
       "      <td>0.848706</td>\n",
       "      <td>-0.763445</td>\n",
       "      <td>1.158568</td>\n",
       "      <td>-0.686130</td>\n",
       "      <td>1.138397</td>\n",
       "      <td>1</td>\n",
       "      <td>0</td>\n",
       "      <td>0</td>\n",
       "    </tr>\n",
       "    <tr>\n",
       "      <th>2</th>\n",
       "      <td>-0.779944</td>\n",
       "      <td>-0.620106</td>\n",
       "      <td>1.084576</td>\n",
       "      <td>-0.565901</td>\n",
       "      <td>-0.002130</td>\n",
       "      <td>-0.271195</td>\n",
       "      <td>-0.884084</td>\n",
       "      <td>-1.051232</td>\n",
       "      <td>-0.920531</td>\n",
       "      <td>-1.042893</td>\n",
       "      <td>...</td>\n",
       "      <td>-0.925409</td>\n",
       "      <td>-1.053629</td>\n",
       "      <td>-1.083758</td>\n",
       "      <td>0.695100</td>\n",
       "      <td>-1.194594</td>\n",
       "      <td>1.133449</td>\n",
       "      <td>-1.046041</td>\n",
       "      <td>0</td>\n",
       "      <td>0</td>\n",
       "      <td>0</td>\n",
       "    </tr>\n",
       "    <tr>\n",
       "      <th>3</th>\n",
       "      <td>-0.779944</td>\n",
       "      <td>1.136575</td>\n",
       "      <td>1.084576</td>\n",
       "      <td>-0.565901</td>\n",
       "      <td>-1.500370</td>\n",
       "      <td>-1.060900</td>\n",
       "      <td>-0.110588</td>\n",
       "      <td>0.769779</td>\n",
       "      <td>0.361648</td>\n",
       "      <td>1.141632</td>\n",
       "      <td>...</td>\n",
       "      <td>-0.487916</td>\n",
       "      <td>-0.339305</td>\n",
       "      <td>0.181616</td>\n",
       "      <td>-1.061526</td>\n",
       "      <td>1.160521</td>\n",
       "      <td>-1.049756</td>\n",
       "      <td>1.138397</td>\n",
       "      <td>1</td>\n",
       "      <td>0</td>\n",
       "      <td>0</td>\n",
       "    </tr>\n",
       "    <tr>\n",
       "      <th>4</th>\n",
       "      <td>-0.078644</td>\n",
       "      <td>-2.376787</td>\n",
       "      <td>0.418896</td>\n",
       "      <td>-0.565901</td>\n",
       "      <td>-0.850317</td>\n",
       "      <td>-0.841397</td>\n",
       "      <td>-0.108589</td>\n",
       "      <td>0.769779</td>\n",
       "      <td>-0.279441</td>\n",
       "      <td>-0.881076</td>\n",
       "      <td>...</td>\n",
       "      <td>-0.161367</td>\n",
       "      <td>0.050327</td>\n",
       "      <td>0.127913</td>\n",
       "      <td>2.451726</td>\n",
       "      <td>0.375483</td>\n",
       "      <td>0.971731</td>\n",
       "      <td>0.202209</td>\n",
       "      <td>1</td>\n",
       "      <td>0</td>\n",
       "      <td>0</td>\n",
       "    </tr>\n",
       "  </tbody>\n",
       "</table>\n",
       "<p>5 rows × 167 columns</p>\n",
       "</div>"
      ],
      "text/plain": [
       "   Overall Qual  Year Built  Year Remod/Add  Mas Vnr Area  Total Bsmt SF  \\\n",
       "0     -0.078644    0.142227        0.989479      1.092329      -0.741232   \n",
       "1      0.622656    0.805126        0.609090      0.191491      -0.322705   \n",
       "2     -0.779944   -0.620106        1.084576     -0.565901      -0.002130   \n",
       "3     -0.779944    1.136575        1.084576     -0.565901      -1.500370   \n",
       "4     -0.078644   -2.376787        0.418896     -0.565901      -0.850317   \n",
       "\n",
       "   1st Flr SF  Gr Liv Area  Full Bath  TotRms AbvGrd  Garage Yr Blt  \\\n",
       "0   -1.108838    -0.040634   0.769779      -0.279441      -0.112447   \n",
       "1   -0.634510     1.244529   0.769779       1.002738       0.737090   \n",
       "2   -0.271195    -0.884084  -1.051232      -0.920531      -1.042893   \n",
       "3   -1.060900    -0.110588   0.769779       0.361648       1.141632   \n",
       "4   -0.841397    -0.108589   0.769779      -0.279441      -0.881076   \n",
       "\n",
       "        ...         Garage Area^2  Garage Area Yr Sold  Garage Area baths  \\\n",
       "0       ...             -0.199323             0.008581           0.496281   \n",
       "1       ...              0.182637             0.396922           0.848706   \n",
       "2       ...             -0.925409            -1.053629          -1.083758   \n",
       "3       ...             -0.487916            -0.339305           0.181616   \n",
       "4       ...             -0.161367             0.050327           0.127913   \n",
       "\n",
       "   Yr Sold homeage  Yr Sold baths  Yr Sold garageage   baths^2  \\\n",
       "0        -0.067210       1.160521           0.203566  1.138397   \n",
       "1        -0.763445       1.158568          -0.686130  1.138397   \n",
       "2         0.695100      -1.194594           1.133449 -1.046041   \n",
       "3        -1.061526       1.160521          -1.049756  1.138397   \n",
       "4         2.451726       0.375483           0.971731  0.202209   \n",
       "\n",
       "   Foundation_PConc  Bsmt Qual_Ex  Kitchen Qual_Ex  \n",
       "0                 0             0                0  \n",
       "1                 1             0                0  \n",
       "2                 0             0                0  \n",
       "3                 1             0                0  \n",
       "4                 1             0                0  \n",
       "\n",
       "[5 rows x 167 columns]"
      ]
     },
     "execution_count": 7,
     "metadata": {},
     "output_type": "execute_result"
    }
   ],
   "source": [
    "train.head()"
   ]
  },
  {
   "cell_type": "code",
   "execution_count": 8,
   "metadata": {},
   "outputs": [
    {
     "data": {
      "text/plain": [
       "(2051, 167)"
      ]
     },
     "execution_count": 8,
     "metadata": {},
     "output_type": "execute_result"
    }
   ],
   "source": [
    "train.shape"
   ]
  },
  {
   "cell_type": "code",
   "execution_count": 9,
   "metadata": {},
   "outputs": [],
   "source": [
    "#create X and y\n",
    "X= train\n",
    "y = price['SalePrice']"
   ]
  },
  {
   "cell_type": "markdown",
   "metadata": {},
   "source": [
    "# Train Test Split "
   ]
  },
  {
   "cell_type": "code",
   "execution_count": 10,
   "metadata": {},
   "outputs": [],
   "source": [
    "X_train, X_holdout, y_train, y_holdout = train_test_split(X, y, test_size = 0.3, random_state = 42)"
   ]
  },
  {
   "cell_type": "code",
   "execution_count": 11,
   "metadata": {},
   "outputs": [
    {
     "name": "stderr",
     "output_type": "stream",
     "text": [
      "/Users/erinhwang/anaconda3/lib/python3.7/site-packages/sklearn/linear_model/coordinate_descent.py:492: ConvergenceWarning: Objective did not converge. You might want to increase the number of iterations. Fitting data with very small alpha may cause precision problems.\n",
      "  ConvergenceWarning)\n"
     ]
    },
    {
     "data": {
      "text/plain": [
       "Lasso(alpha=1.0, copy_X=True, fit_intercept=True, max_iter=1000,\n",
       "   normalize=False, positive=False, precompute=False, random_state=None,\n",
       "   selection='cyclic', tol=0.0001, warm_start=False)"
      ]
     },
     "execution_count": 11,
     "metadata": {},
     "output_type": "execute_result"
    }
   ],
   "source": [
    "lasso = Lasso()\n",
    "lasso.fit(X_train, y_train)"
   ]
  },
  {
   "cell_type": "markdown",
   "metadata": {},
   "source": [
    "# Calculate R-Squared and RMSE Scores"
   ]
  },
  {
   "cell_type": "code",
   "execution_count": 12,
   "metadata": {},
   "outputs": [
    {
     "data": {
      "text/plain": [
       "0.9280369942602362"
      ]
     },
     "execution_count": 12,
     "metadata": {},
     "output_type": "execute_result"
    }
   ],
   "source": [
    "lasso.score(X_train, y_train)"
   ]
  },
  {
   "cell_type": "code",
   "execution_count": 13,
   "metadata": {},
   "outputs": [
    {
     "data": {
      "text/plain": [
       "0.8982563315885601"
      ]
     },
     "execution_count": 13,
     "metadata": {},
     "output_type": "execute_result"
    }
   ],
   "source": [
    "lasso.score(X_holdout, y_holdout)"
   ]
  },
  {
   "cell_type": "markdown",
   "metadata": {},
   "source": [
    "# Creating Predictions"
   ]
  },
  {
   "cell_type": "code",
   "execution_count": 14,
   "metadata": {},
   "outputs": [],
   "source": [
    "y_train_pred = lasso.predict(X_train)\n",
    "y_holdout_pred = lasso.predict(X_holdout)"
   ]
  },
  {
   "cell_type": "code",
   "execution_count": 15,
   "metadata": {},
   "outputs": [],
   "source": [
    "def rmse(y, yhat):\n",
    "    mse = mean_squared_error(y, yhat)\n",
    "    return np.sqrt(mse)"
   ]
  },
  {
   "cell_type": "code",
   "execution_count": 16,
   "metadata": {},
   "outputs": [
    {
     "data": {
      "text/plain": [
       "21471.45065277749"
      ]
     },
     "execution_count": 16,
     "metadata": {},
     "output_type": "execute_result"
    }
   ],
   "source": [
    "#calc rmse\n",
    "rmse(y_train, y_train_pred)"
   ]
  },
  {
   "cell_type": "code",
   "execution_count": 17,
   "metadata": {},
   "outputs": [
    {
     "data": {
      "text/plain": [
       "24661.008680354156"
      ]
     },
     "execution_count": 17,
     "metadata": {},
     "output_type": "execute_result"
    }
   ],
   "source": [
    "rmse(y_holdout, y_holdout_pred)"
   ]
  },
  {
   "cell_type": "markdown",
   "metadata": {},
   "source": [
    "# Grid Search Time"
   ]
  },
  {
   "cell_type": "markdown",
   "metadata": {},
   "source": [
    "check sklearn parameters guide to alter whatever you want on gridsearch"
   ]
  },
  {
   "cell_type": "code",
   "execution_count": 18,
   "metadata": {},
   "outputs": [],
   "source": [
    "#params\n",
    "lasso_params = {\n",
    "    'alpha': np.linspace(0, 1, 20) , #start at .2 end at 1 and give me 8 steps between that \n",
    "    \n",
    "}"
   ]
  },
  {
   "cell_type": "code",
   "execution_count": 19,
   "metadata": {},
   "outputs": [],
   "source": [
    "#grid search\n",
    "lasso_gridsearch = GridSearchCV(\n",
    "    Lasso(),\n",
    "    lasso_params,\n",
    "    cv = 8,\n",
    "    verbose = 1,\n",
    "    n_jobs =2,\n",
    "    return_train_score = False\n",
    ")"
   ]
  },
  {
   "cell_type": "code",
   "execution_count": 20,
   "metadata": {},
   "outputs": [
    {
     "name": "stdout",
     "output_type": "stream",
     "text": [
      "Fitting 8 folds for each of 20 candidates, totalling 160 fits\n"
     ]
    },
    {
     "name": "stderr",
     "output_type": "stream",
     "text": [
      "[Parallel(n_jobs=2)]: Using backend LokyBackend with 2 concurrent workers.\n",
      "[Parallel(n_jobs=2)]: Done  46 tasks      | elapsed:    4.4s\n",
      "[Parallel(n_jobs=2)]: Done 160 out of 160 | elapsed:   11.0s finished\n",
      "/Users/erinhwang/anaconda3/lib/python3.7/site-packages/sklearn/linear_model/coordinate_descent.py:492: ConvergenceWarning: Objective did not converge. You might want to increase the number of iterations. Fitting data with very small alpha may cause precision problems.\n",
      "  ConvergenceWarning)\n"
     ]
    },
    {
     "data": {
      "text/plain": [
       "GridSearchCV(cv=8, error_score='raise-deprecating',\n",
       "       estimator=Lasso(alpha=1.0, copy_X=True, fit_intercept=True, max_iter=1000,\n",
       "   normalize=False, positive=False, precompute=False, random_state=None,\n",
       "   selection='cyclic', tol=0.0001, warm_start=False),\n",
       "       fit_params=None, iid='warn', n_jobs=2,\n",
       "       param_grid={'alpha': array([0.     , 0.05263, 0.10526, 0.15789, 0.21053, 0.26316, 0.31579,\n",
       "       0.36842, 0.42105, 0.47368, 0.52632, 0.57895, 0.63158, 0.68421,\n",
       "       0.73684, 0.78947, 0.84211, 0.89474, 0.94737, 1.     ])},\n",
       "       pre_dispatch='2*n_jobs', refit=True, return_train_score=False,\n",
       "       scoring=None, verbose=1)"
      ]
     },
     "execution_count": 20,
     "metadata": {},
     "output_type": "execute_result"
    }
   ],
   "source": [
    "#fit to train\n",
    "lasso_gridsearch.fit(X_train, y_train)"
   ]
  },
  {
   "cell_type": "code",
   "execution_count": 21,
   "metadata": {},
   "outputs": [
    {
     "data": {
      "text/plain": [
       "{'alpha': 0.05263157894736842}"
      ]
     },
     "execution_count": 21,
     "metadata": {},
     "output_type": "execute_result"
    }
   ],
   "source": [
    "#best params\n",
    "lasso_gridsearch.best_params_"
   ]
  },
  {
   "cell_type": "code",
   "execution_count": 22,
   "metadata": {},
   "outputs": [
    {
     "data": {
      "text/plain": [
       "0.8700855199389407"
      ]
     },
     "execution_count": 22,
     "metadata": {},
     "output_type": "execute_result"
    }
   ],
   "source": [
    "#best score\n",
    "lasso_gridsearch.best_score_"
   ]
  },
  {
   "cell_type": "code",
   "execution_count": 23,
   "metadata": {},
   "outputs": [],
   "source": [
    "#save the best model it came up with \n",
    "best_lasso = lasso_gridsearch.best_estimator_"
   ]
  },
  {
   "cell_type": "code",
   "execution_count": 24,
   "metadata": {},
   "outputs": [
    {
     "data": {
      "text/plain": [
       "array([ 55466.78798494,  17078.61368862,   4774.03832283,  26492.5774325 ,\n",
       "         2259.19024164,   7956.43747977,  21294.38381491, -10646.89872196,\n",
       "        17150.09739484, -16536.19417464, -16481.14653922,   7448.26039813,\n",
       "         5085.5413657 ,  -5419.90074485,  -3995.11587392,  -7934.65609929,\n",
       "        -1822.36335573,   3258.25078938, -19136.94321892,  31717.34526027,\n",
       "       -24754.13684015,  19100.82079442,  19994.73207497, -11277.8224447 ,\n",
       "       -19427.68979385,   7538.71911108,  -3507.83502343,  -5780.76355547,\n",
       "         1621.48109206,  15673.83703106,  38695.44330773,  22072.96587038,\n",
       "        35468.96853722, -28900.8299033 , -13243.88789844,  -6250.90697642,\n",
       "        -6259.98484635,  12344.92572197, -41182.29120521,  -5460.09291429,\n",
       "         4415.00352934, -13213.26043038,  50508.56852881,  -5654.37071211,\n",
       "        -1924.92664402,  18205.00470132,  28732.20541425, -24484.92809727,\n",
       "       -11067.89540716,  -2528.98514847,   -214.92329371, -30766.26130783,\n",
       "       -29581.3485315 ,  -2381.10291077,   6128.58441638,  30747.81368011,\n",
       "       -19348.0495003 ,  15061.44930433, -18668.19172037,  17463.55048985,\n",
       "          553.71474047,   7085.51507167,  -8932.92898779, -11825.82841112,\n",
       "        -2879.59286989,   7304.01120658, -19554.29493376,  -9228.02286902,\n",
       "        -2027.04046945,  13517.8289222 ,   4741.80029633,    240.97263285,\n",
       "        -8101.6660957 ,  11962.98429928,   1518.50318819,   2217.13602351,\n",
       "       -18910.71464536,  -6349.89372355,  21535.79959402, -31156.37804682,\n",
       "       -18801.94665317,  10405.3496364 ,   6519.97584633,  20586.20302329,\n",
       "         2122.36583406,   2821.12009954,   3866.08169029,  13779.01487104,\n",
       "       -24236.72957016,  -7163.15935088,   3982.29120043,  -3100.44176657,\n",
       "        -6035.63374072, -19092.31674772,   4907.29541587, -28211.32937856,\n",
       "         9719.30795046,   1439.47720846,  -2636.79723375,  36697.05748868,\n",
       "         9143.37100042, -17580.98046051,   6679.34309533,  17733.63948147,\n",
       "         3222.8599769 , -52011.9893251 ,  17304.32395016,   1020.70136596,\n",
       "        12953.82412654,   8237.47971648,   6819.60607434,  -6716.49331716,\n",
       "        -7031.45136375,  11844.75210735, -12294.91550767,  28375.10036964,\n",
       "        -4547.2168795 ,   1728.31363666, -11207.55400189,  27029.52399945,\n",
       "       -25041.93407398, -10401.82920755,  -4549.99316406, -12108.73719547,\n",
       "        25049.51034745, -13335.5549964 ,  -8512.21853586,  -9822.70943689,\n",
       "        21309.79768802, -20058.74910306,  14104.68351587, -14471.85790538,\n",
       "        15990.8297072 ,  17606.02175081, -20066.06104528,   9594.15710673,\n",
       "       -11331.96388812,    904.55615038,   4583.6487747 ,   2726.9819309 ,\n",
       "         7585.37611809,  -6996.71757266, -22443.44232756,   6156.9667471 ,\n",
       "       -10412.16226249,  -4448.43735394,  -2399.45812415,  -7968.76898033,\n",
       "        16901.81073561,  -3823.97797139,  -8256.00824009,   1398.69986044,\n",
       "         7432.77988978, -13092.81027842, -17668.92046684,   9843.55657004,\n",
       "           89.22717129,  33411.89171904, -19769.33764981, -10937.30470342,\n",
       "        -4767.06090094,   2886.37710987,   7922.13201384,   -440.68977068,\n",
       "         5935.26279355,  18710.28458207,  23301.65935471])"
      ]
     },
     "execution_count": 24,
     "metadata": {},
     "output_type": "execute_result"
    }
   ],
   "source": [
    "best_lasso.coef_"
   ]
  },
  {
   "cell_type": "code",
   "execution_count": 25,
   "metadata": {},
   "outputs": [
    {
     "data": {
      "text/plain": [
       "0.9280642982005263"
      ]
     },
     "execution_count": 25,
     "metadata": {},
     "output_type": "execute_result"
    }
   ],
   "source": [
    "#best estimator score \n",
    "best_lasso.score(X_train, y_train)"
   ]
  },
  {
   "cell_type": "code",
   "execution_count": 26,
   "metadata": {},
   "outputs": [
    {
     "data": {
      "text/plain": [
       "0.8978091279521075"
      ]
     },
     "execution_count": 26,
     "metadata": {},
     "output_type": "execute_result"
    }
   ],
   "source": [
    "#best estimator score on holdut \n",
    "best_lasso.score(X_holdout, y_holdout)"
   ]
  },
  {
   "cell_type": "markdown",
   "metadata": {},
   "source": [
    "# RMSE"
   ]
  },
  {
   "cell_type": "code",
   "execution_count": 27,
   "metadata": {},
   "outputs": [
    {
     "name": "stdout",
     "output_type": "stream",
     "text": [
      "21467.376956718046\n",
      "24715.14669624479\n"
     ]
    }
   ],
   "source": [
    "#predict \n",
    "y_train_lasso = best_lasso.predict(X_train)\n",
    "y_holdout_lasso = best_lasso.predict(X_holdout)\n",
    "\n",
    "#calc rmse\n",
    "print(rmse(y_train, y_train_lasso))\n",
    "print(rmse(y_holdout, y_holdout_lasso))"
   ]
  },
  {
   "cell_type": "markdown",
   "metadata": {},
   "source": [
    "# Conclusion "
   ]
  },
  {
   "cell_type": "markdown",
   "metadata": {},
   "source": [
    "By executing the `cross_val_score`, proceeding with the `Ridge` was the best model for us. Here are the following regression metrics for Ridge:\n",
    "\n",
    "|Metric|Score|\n",
    "|---|---|\n",
    "|Train Score|.9283|\n",
    "|Test Score|.9031|\n",
    "|RMSE Train|21,427|\n",
    "|RMSE Test|24,064|"
   ]
  },
  {
   "cell_type": "markdown",
   "metadata": {},
   "source": [
    "By executing `GridSearchCV`, we used `ElasticNet` as the model since it involves both Lasso and Ridge. GridSearch will tells us the best ratio between Lasso and Ridge. After looking at the recommended parameters, the best parameters told us to have a L1 ratio of 1. We decided to perform a GridSearch for `Lasso`. We computed Lasso regression metrics. Here are the following metrics for Lasso. \n",
    "\n",
    "|Metric|Score|\n",
    "|---|---|\n",
    "|Train Score|.9280|\n",
    "|Test Score|.8978|\n",
    "|RMSE Train|21,467|\n",
    "|RMSE Test|24,715|"
   ]
  },
  {
   "cell_type": "markdown",
   "metadata": {},
   "source": [
    "**Final:** For the features we used in our regression model, it is best to proceed with the Ridge model since the overall test score and RMSE score have a better overall fit with the true sale price of homes compared to the Lasso GridSearch model. "
   ]
  },
  {
   "cell_type": "code",
   "execution_count": null,
   "metadata": {},
   "outputs": [],
   "source": []
  }
 ],
 "metadata": {
  "kernelspec": {
   "display_name": "Python 3",
   "language": "python",
   "name": "python3"
  },
  "language_info": {
   "codemirror_mode": {
    "name": "ipython",
    "version": 3
   },
   "file_extension": ".py",
   "mimetype": "text/x-python",
   "name": "python",
   "nbconvert_exporter": "python",
   "pygments_lexer": "ipython3",
   "version": "3.7.1"
  }
 },
 "nbformat": 4,
 "nbformat_minor": 2
}
